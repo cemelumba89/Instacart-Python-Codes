{
 "cells": [
  {
   "cell_type": "markdown",
   "id": "8c4bf48d",
   "metadata": {},
   "source": [
    "# 01. Importing Libraries & Data"
   ]
  },
  {
   "cell_type": "code",
   "execution_count": 1,
   "id": "2b4468cb",
   "metadata": {},
   "outputs": [],
   "source": [
    "#### Import libraries\n",
    "import pandas as pd\n",
    "import numpy as np\n",
    "import os\n",
    "import matplotlib.pyplot as plt\n",
    "import seaborn as sns\n",
    "import scipy"
   ]
  },
  {
   "cell_type": "code",
   "execution_count": 2,
   "id": "f9e3a91e",
   "metadata": {},
   "outputs": [],
   "source": [
    "#### Define path\n",
    "path = r'C:\\Users\\cemel\\Documents\\30-12-2023 Instacart Basket Analysis (Achievement 4)'"
   ]
  },
  {
   "cell_type": "code",
   "execution_count": 3,
   "id": "821a3d63",
   "metadata": {},
   "outputs": [],
   "source": [
    "#### Load the 'customers.csv' file into pandas dataframe\n",
    "df = pd.read_csv(os.path.join(path, '02 Data', 'Original Data', 'customers.csv'))"
   ]
  },
  {
   "cell_type": "markdown",
   "id": "ce29aa6b",
   "metadata": {},
   "source": [
    "## Check the Output"
   ]
  },
  {
   "cell_type": "code",
   "execution_count": 4,
   "id": "a568ff23",
   "metadata": {
    "scrolled": true
   },
   "outputs": [
    {
     "data": {
      "text/html": [
       "<div>\n",
       "<style scoped>\n",
       "    .dataframe tbody tr th:only-of-type {\n",
       "        vertical-align: middle;\n",
       "    }\n",
       "\n",
       "    .dataframe tbody tr th {\n",
       "        vertical-align: top;\n",
       "    }\n",
       "\n",
       "    .dataframe thead th {\n",
       "        text-align: right;\n",
       "    }\n",
       "</style>\n",
       "<table border=\"1\" class=\"dataframe\">\n",
       "  <thead>\n",
       "    <tr style=\"text-align: right;\">\n",
       "      <th></th>\n",
       "      <th>user_id</th>\n",
       "      <th>First Name</th>\n",
       "      <th>Surnam</th>\n",
       "      <th>Gender</th>\n",
       "      <th>STATE</th>\n",
       "      <th>Age</th>\n",
       "      <th>date_joined</th>\n",
       "      <th>n_dependants</th>\n",
       "      <th>fam_status</th>\n",
       "      <th>income</th>\n",
       "    </tr>\n",
       "  </thead>\n",
       "  <tbody>\n",
       "    <tr>\n",
       "      <th>0</th>\n",
       "      <td>26711</td>\n",
       "      <td>Deborah</td>\n",
       "      <td>Esquivel</td>\n",
       "      <td>Female</td>\n",
       "      <td>Missouri</td>\n",
       "      <td>48</td>\n",
       "      <td>1/1/2017</td>\n",
       "      <td>3</td>\n",
       "      <td>married</td>\n",
       "      <td>165665</td>\n",
       "    </tr>\n",
       "    <tr>\n",
       "      <th>1</th>\n",
       "      <td>33890</td>\n",
       "      <td>Patricia</td>\n",
       "      <td>Hart</td>\n",
       "      <td>Female</td>\n",
       "      <td>New Mexico</td>\n",
       "      <td>36</td>\n",
       "      <td>1/1/2017</td>\n",
       "      <td>0</td>\n",
       "      <td>single</td>\n",
       "      <td>59285</td>\n",
       "    </tr>\n",
       "    <tr>\n",
       "      <th>2</th>\n",
       "      <td>65803</td>\n",
       "      <td>Kenneth</td>\n",
       "      <td>Farley</td>\n",
       "      <td>Male</td>\n",
       "      <td>Idaho</td>\n",
       "      <td>35</td>\n",
       "      <td>1/1/2017</td>\n",
       "      <td>2</td>\n",
       "      <td>married</td>\n",
       "      <td>99568</td>\n",
       "    </tr>\n",
       "    <tr>\n",
       "      <th>3</th>\n",
       "      <td>125935</td>\n",
       "      <td>Michelle</td>\n",
       "      <td>Hicks</td>\n",
       "      <td>Female</td>\n",
       "      <td>Iowa</td>\n",
       "      <td>40</td>\n",
       "      <td>1/1/2017</td>\n",
       "      <td>0</td>\n",
       "      <td>single</td>\n",
       "      <td>42049</td>\n",
       "    </tr>\n",
       "    <tr>\n",
       "      <th>4</th>\n",
       "      <td>130797</td>\n",
       "      <td>Ann</td>\n",
       "      <td>Gilmore</td>\n",
       "      <td>Female</td>\n",
       "      <td>Maryland</td>\n",
       "      <td>26</td>\n",
       "      <td>1/1/2017</td>\n",
       "      <td>1</td>\n",
       "      <td>married</td>\n",
       "      <td>40374</td>\n",
       "    </tr>\n",
       "  </tbody>\n",
       "</table>\n",
       "</div>"
      ],
      "text/plain": [
       "   user_id First Name    Surnam  Gender       STATE  Age date_joined  \\\n",
       "0    26711    Deborah  Esquivel  Female    Missouri   48    1/1/2017   \n",
       "1    33890   Patricia      Hart  Female  New Mexico   36    1/1/2017   \n",
       "2    65803    Kenneth    Farley    Male       Idaho   35    1/1/2017   \n",
       "3   125935   Michelle     Hicks  Female        Iowa   40    1/1/2017   \n",
       "4   130797        Ann   Gilmore  Female    Maryland   26    1/1/2017   \n",
       "\n",
       "   n_dependants fam_status  income  \n",
       "0             3    married  165665  \n",
       "1             0     single   59285  \n",
       "2             2    married   99568  \n",
       "3             0     single   42049  \n",
       "4             1    married   40374  "
      ]
     },
     "execution_count": 4,
     "metadata": {},
     "output_type": "execute_result"
    }
   ],
   "source": [
    "df.head()"
   ]
  },
  {
   "cell_type": "code",
   "execution_count": 5,
   "id": "da439aa4",
   "metadata": {},
   "outputs": [
    {
     "data": {
      "text/plain": [
       "(206209, 10)"
      ]
     },
     "execution_count": 5,
     "metadata": {},
     "output_type": "execute_result"
    }
   ],
   "source": [
    "df.shape"
   ]
  },
  {
   "cell_type": "markdown",
   "id": "cac0eac9",
   "metadata": {},
   "source": [
    "# 02. Wrangling the data so that it follows consistent logic"
   ]
  },
  {
   "cell_type": "code",
   "execution_count": 6,
   "id": "e050e13b",
   "metadata": {},
   "outputs": [],
   "source": [
    "#### Rename columns\n",
    "df.rename(columns={'First Name':'first_name','Surnam':'surname','Gender':'gender','STATE':'state','Age':'age','n_dependants':'dependants','fam_status':'family_status'}, inplace=True)"
   ]
  },
  {
   "cell_type": "markdown",
   "id": "ff23d0dc",
   "metadata": {},
   "source": [
    "## Check the Output"
   ]
  },
  {
   "cell_type": "code",
   "execution_count": 7,
   "id": "6a318834",
   "metadata": {},
   "outputs": [
    {
     "data": {
      "text/html": [
       "<div>\n",
       "<style scoped>\n",
       "    .dataframe tbody tr th:only-of-type {\n",
       "        vertical-align: middle;\n",
       "    }\n",
       "\n",
       "    .dataframe tbody tr th {\n",
       "        vertical-align: top;\n",
       "    }\n",
       "\n",
       "    .dataframe thead th {\n",
       "        text-align: right;\n",
       "    }\n",
       "</style>\n",
       "<table border=\"1\" class=\"dataframe\">\n",
       "  <thead>\n",
       "    <tr style=\"text-align: right;\">\n",
       "      <th></th>\n",
       "      <th>user_id</th>\n",
       "      <th>first_name</th>\n",
       "      <th>surname</th>\n",
       "      <th>gender</th>\n",
       "      <th>state</th>\n",
       "      <th>age</th>\n",
       "      <th>date_joined</th>\n",
       "      <th>dependants</th>\n",
       "      <th>family_status</th>\n",
       "      <th>income</th>\n",
       "    </tr>\n",
       "  </thead>\n",
       "  <tbody>\n",
       "    <tr>\n",
       "      <th>0</th>\n",
       "      <td>26711</td>\n",
       "      <td>Deborah</td>\n",
       "      <td>Esquivel</td>\n",
       "      <td>Female</td>\n",
       "      <td>Missouri</td>\n",
       "      <td>48</td>\n",
       "      <td>1/1/2017</td>\n",
       "      <td>3</td>\n",
       "      <td>married</td>\n",
       "      <td>165665</td>\n",
       "    </tr>\n",
       "    <tr>\n",
       "      <th>1</th>\n",
       "      <td>33890</td>\n",
       "      <td>Patricia</td>\n",
       "      <td>Hart</td>\n",
       "      <td>Female</td>\n",
       "      <td>New Mexico</td>\n",
       "      <td>36</td>\n",
       "      <td>1/1/2017</td>\n",
       "      <td>0</td>\n",
       "      <td>single</td>\n",
       "      <td>59285</td>\n",
       "    </tr>\n",
       "    <tr>\n",
       "      <th>2</th>\n",
       "      <td>65803</td>\n",
       "      <td>Kenneth</td>\n",
       "      <td>Farley</td>\n",
       "      <td>Male</td>\n",
       "      <td>Idaho</td>\n",
       "      <td>35</td>\n",
       "      <td>1/1/2017</td>\n",
       "      <td>2</td>\n",
       "      <td>married</td>\n",
       "      <td>99568</td>\n",
       "    </tr>\n",
       "    <tr>\n",
       "      <th>3</th>\n",
       "      <td>125935</td>\n",
       "      <td>Michelle</td>\n",
       "      <td>Hicks</td>\n",
       "      <td>Female</td>\n",
       "      <td>Iowa</td>\n",
       "      <td>40</td>\n",
       "      <td>1/1/2017</td>\n",
       "      <td>0</td>\n",
       "      <td>single</td>\n",
       "      <td>42049</td>\n",
       "    </tr>\n",
       "    <tr>\n",
       "      <th>4</th>\n",
       "      <td>130797</td>\n",
       "      <td>Ann</td>\n",
       "      <td>Gilmore</td>\n",
       "      <td>Female</td>\n",
       "      <td>Maryland</td>\n",
       "      <td>26</td>\n",
       "      <td>1/1/2017</td>\n",
       "      <td>1</td>\n",
       "      <td>married</td>\n",
       "      <td>40374</td>\n",
       "    </tr>\n",
       "  </tbody>\n",
       "</table>\n",
       "</div>"
      ],
      "text/plain": [
       "   user_id first_name   surname  gender       state  age date_joined  \\\n",
       "0    26711    Deborah  Esquivel  Female    Missouri   48    1/1/2017   \n",
       "1    33890   Patricia      Hart  Female  New Mexico   36    1/1/2017   \n",
       "2    65803    Kenneth    Farley    Male       Idaho   35    1/1/2017   \n",
       "3   125935   Michelle     Hicks  Female        Iowa   40    1/1/2017   \n",
       "4   130797        Ann   Gilmore  Female    Maryland   26    1/1/2017   \n",
       "\n",
       "   dependants family_status  income  \n",
       "0           3       married  165665  \n",
       "1           0        single   59285  \n",
       "2           2       married   99568  \n",
       "3           0        single   42049  \n",
       "4           1       married   40374  "
      ]
     },
     "execution_count": 7,
     "metadata": {},
     "output_type": "execute_result"
    }
   ],
   "source": [
    "df.head()"
   ]
  },
  {
   "cell_type": "code",
   "execution_count": 8,
   "id": "584deef0",
   "metadata": {},
   "outputs": [],
   "source": [
    "#### Drop the 'date_joined' column since it adds nothing to the analysis\n",
    "df = df.drop(columns = ['date_joined'])"
   ]
  },
  {
   "cell_type": "markdown",
   "id": "d0589a9e",
   "metadata": {},
   "source": [
    "## Check the Output"
   ]
  },
  {
   "cell_type": "code",
   "execution_count": 9,
   "id": "a3bd2aea",
   "metadata": {},
   "outputs": [
    {
     "data": {
      "text/html": [
       "<div>\n",
       "<style scoped>\n",
       "    .dataframe tbody tr th:only-of-type {\n",
       "        vertical-align: middle;\n",
       "    }\n",
       "\n",
       "    .dataframe tbody tr th {\n",
       "        vertical-align: top;\n",
       "    }\n",
       "\n",
       "    .dataframe thead th {\n",
       "        text-align: right;\n",
       "    }\n",
       "</style>\n",
       "<table border=\"1\" class=\"dataframe\">\n",
       "  <thead>\n",
       "    <tr style=\"text-align: right;\">\n",
       "      <th></th>\n",
       "      <th>user_id</th>\n",
       "      <th>first_name</th>\n",
       "      <th>surname</th>\n",
       "      <th>gender</th>\n",
       "      <th>state</th>\n",
       "      <th>age</th>\n",
       "      <th>dependants</th>\n",
       "      <th>family_status</th>\n",
       "      <th>income</th>\n",
       "    </tr>\n",
       "  </thead>\n",
       "  <tbody>\n",
       "    <tr>\n",
       "      <th>0</th>\n",
       "      <td>26711</td>\n",
       "      <td>Deborah</td>\n",
       "      <td>Esquivel</td>\n",
       "      <td>Female</td>\n",
       "      <td>Missouri</td>\n",
       "      <td>48</td>\n",
       "      <td>3</td>\n",
       "      <td>married</td>\n",
       "      <td>165665</td>\n",
       "    </tr>\n",
       "    <tr>\n",
       "      <th>1</th>\n",
       "      <td>33890</td>\n",
       "      <td>Patricia</td>\n",
       "      <td>Hart</td>\n",
       "      <td>Female</td>\n",
       "      <td>New Mexico</td>\n",
       "      <td>36</td>\n",
       "      <td>0</td>\n",
       "      <td>single</td>\n",
       "      <td>59285</td>\n",
       "    </tr>\n",
       "    <tr>\n",
       "      <th>2</th>\n",
       "      <td>65803</td>\n",
       "      <td>Kenneth</td>\n",
       "      <td>Farley</td>\n",
       "      <td>Male</td>\n",
       "      <td>Idaho</td>\n",
       "      <td>35</td>\n",
       "      <td>2</td>\n",
       "      <td>married</td>\n",
       "      <td>99568</td>\n",
       "    </tr>\n",
       "    <tr>\n",
       "      <th>3</th>\n",
       "      <td>125935</td>\n",
       "      <td>Michelle</td>\n",
       "      <td>Hicks</td>\n",
       "      <td>Female</td>\n",
       "      <td>Iowa</td>\n",
       "      <td>40</td>\n",
       "      <td>0</td>\n",
       "      <td>single</td>\n",
       "      <td>42049</td>\n",
       "    </tr>\n",
       "    <tr>\n",
       "      <th>4</th>\n",
       "      <td>130797</td>\n",
       "      <td>Ann</td>\n",
       "      <td>Gilmore</td>\n",
       "      <td>Female</td>\n",
       "      <td>Maryland</td>\n",
       "      <td>26</td>\n",
       "      <td>1</td>\n",
       "      <td>married</td>\n",
       "      <td>40374</td>\n",
       "    </tr>\n",
       "  </tbody>\n",
       "</table>\n",
       "</div>"
      ],
      "text/plain": [
       "   user_id first_name   surname  gender       state  age  dependants  \\\n",
       "0    26711    Deborah  Esquivel  Female    Missouri   48           3   \n",
       "1    33890   Patricia      Hart  Female  New Mexico   36           0   \n",
       "2    65803    Kenneth    Farley    Male       Idaho   35           2   \n",
       "3   125935   Michelle     Hicks  Female        Iowa   40           0   \n",
       "4   130797        Ann   Gilmore  Female    Maryland   26           1   \n",
       "\n",
       "  family_status  income  \n",
       "0       married  165665  \n",
       "1        single   59285  \n",
       "2       married   99568  \n",
       "3        single   42049  \n",
       "4       married   40374  "
      ]
     },
     "execution_count": 9,
     "metadata": {},
     "output_type": "execute_result"
    }
   ],
   "source": [
    "df.head()"
   ]
  },
  {
   "cell_type": "markdown",
   "id": "244bf7cc",
   "metadata": {},
   "source": [
    "# 03. Completing the fundamental data quality and consistency checks"
   ]
  },
  {
   "cell_type": "markdown",
   "id": "5d0b4c21",
   "metadata": {},
   "source": [
    "## Seeking and Addressing Mixed-type Data"
   ]
  },
  {
   "cell_type": "code",
   "execution_count": 10,
   "id": "d8ff1dd3",
   "metadata": {},
   "outputs": [
    {
     "name": "stdout",
     "output_type": "stream",
     "text": [
      "first_name\n"
     ]
    }
   ],
   "source": [
    "#### Checking for mixed-type data in 'df' dataframe\n",
    "for col in df.columns:\n",
    "    weird = (df[[col]].map(type) != df[[col]].iloc[0].map(type)).any(axis=1)\n",
    "    if len(df[weird]) > 0:\n",
    "        print(col)"
   ]
  },
  {
   "cell_type": "code",
   "execution_count": 11,
   "id": "996cc16b",
   "metadata": {},
   "outputs": [],
   "source": [
    "#### Converting the column to a string type to ensure uniformity and prevent potential issues related to mixed types\n",
    "df['first_name'] = df['first_name'].astype('str')"
   ]
  },
  {
   "cell_type": "markdown",
   "id": "e677ec8c",
   "metadata": {},
   "source": [
    "## Seeking and Addressing Missing Data"
   ]
  },
  {
   "cell_type": "code",
   "execution_count": 12,
   "id": "0026865c",
   "metadata": {},
   "outputs": [
    {
     "data": {
      "text/plain": [
       "user_id          0\n",
       "first_name       0\n",
       "surname          0\n",
       "gender           0\n",
       "state            0\n",
       "age              0\n",
       "dependants       0\n",
       "family_status    0\n",
       "income           0\n",
       "dtype: int64"
      ]
     },
     "execution_count": 12,
     "metadata": {},
     "output_type": "execute_result"
    }
   ],
   "source": [
    "#### Checking for missing values in 'df' columns\n",
    "df.isnull().sum()"
   ]
  },
  {
   "cell_type": "code",
   "execution_count": 13,
   "id": "557d5e75",
   "metadata": {},
   "outputs": [],
   "source": [
    "#### Creating a copy of the original DataFrame in order to avoid overwriting it\n",
    "df_no_nans = df.copy()"
   ]
  },
  {
   "cell_type": "code",
   "execution_count": 14,
   "id": "cd133e3c",
   "metadata": {},
   "outputs": [],
   "source": [
    "#### Fill missing values in the 'first_name' column with 'Unknown' in the new DataFrame\n",
    "df_no_nans['first_name'].fillna('Unknown', inplace=True)"
   ]
  },
  {
   "cell_type": "code",
   "execution_count": 15,
   "id": "61867f68",
   "metadata": {},
   "outputs": [
    {
     "data": {
      "text/plain": [
       "user_id          0\n",
       "first_name       0\n",
       "surname          0\n",
       "gender           0\n",
       "state            0\n",
       "age              0\n",
       "dependants       0\n",
       "family_status    0\n",
       "income           0\n",
       "dtype: int64"
      ]
     },
     "execution_count": 15,
     "metadata": {},
     "output_type": "execute_result"
    }
   ],
   "source": [
    "df_no_nans.isnull().sum()"
   ]
  },
  {
   "cell_type": "markdown",
   "id": "ab91061b",
   "metadata": {},
   "source": [
    "## Seeking and Addressing Duplicates"
   ]
  },
  {
   "cell_type": "code",
   "execution_count": 16,
   "id": "0f6e4fb5",
   "metadata": {},
   "outputs": [],
   "source": [
    "#### Checking for duplicates in 'df' dataframe\n",
    "duplicates = df[df.duplicated()]"
   ]
  },
  {
   "cell_type": "code",
   "execution_count": 17,
   "id": "e1d8726e",
   "metadata": {},
   "outputs": [
    {
     "data": {
      "text/html": [
       "<div>\n",
       "<style scoped>\n",
       "    .dataframe tbody tr th:only-of-type {\n",
       "        vertical-align: middle;\n",
       "    }\n",
       "\n",
       "    .dataframe tbody tr th {\n",
       "        vertical-align: top;\n",
       "    }\n",
       "\n",
       "    .dataframe thead th {\n",
       "        text-align: right;\n",
       "    }\n",
       "</style>\n",
       "<table border=\"1\" class=\"dataframe\">\n",
       "  <thead>\n",
       "    <tr style=\"text-align: right;\">\n",
       "      <th></th>\n",
       "      <th>user_id</th>\n",
       "      <th>first_name</th>\n",
       "      <th>surname</th>\n",
       "      <th>gender</th>\n",
       "      <th>state</th>\n",
       "      <th>age</th>\n",
       "      <th>dependants</th>\n",
       "      <th>family_status</th>\n",
       "      <th>income</th>\n",
       "    </tr>\n",
       "  </thead>\n",
       "  <tbody>\n",
       "  </tbody>\n",
       "</table>\n",
       "</div>"
      ],
      "text/plain": [
       "Empty DataFrame\n",
       "Columns: [user_id, first_name, surname, gender, state, age, dependants, family_status, income]\n",
       "Index: []"
      ]
     },
     "execution_count": 17,
     "metadata": {},
     "output_type": "execute_result"
    }
   ],
   "source": [
    "duplicates"
   ]
  },
  {
   "cell_type": "markdown",
   "id": "18f7dcf3",
   "metadata": {},
   "source": [
    "## Comments: There appear to be no duplicates in the 'df' dataframe.`"
   ]
  },
  {
   "cell_type": "markdown",
   "id": "3cc67d1a",
   "metadata": {},
   "source": [
    "# 04. Combine customer data with the rest of the prepared Instacart data"
   ]
  },
  {
   "cell_type": "code",
   "execution_count": 18,
   "id": "42708544",
   "metadata": {},
   "outputs": [],
   "source": [
    "#### Specifying the path to Instacart data pkl file\n",
    "pickle_file_path = os.path.join(path, '02 Data', 'Prepared Data', 'ords_prods_merge_aggregated.pkl')"
   ]
  },
  {
   "cell_type": "code",
   "execution_count": 19,
   "id": "8390fae6",
   "metadata": {},
   "outputs": [],
   "source": [
    "#### Load the pickle file into Pandas DataFrame\n",
    "df_agg = pd.read_pickle(pickle_file_path)"
   ]
  },
  {
   "cell_type": "markdown",
   "id": "af1cb79a",
   "metadata": {},
   "source": [
    "## Check the Output"
   ]
  },
  {
   "cell_type": "code",
   "execution_count": 20,
   "id": "b5895267",
   "metadata": {},
   "outputs": [
    {
     "data": {
      "text/html": [
       "<div>\n",
       "<style scoped>\n",
       "    .dataframe tbody tr th:only-of-type {\n",
       "        vertical-align: middle;\n",
       "    }\n",
       "\n",
       "    .dataframe tbody tr th {\n",
       "        vertical-align: top;\n",
       "    }\n",
       "\n",
       "    .dataframe thead th {\n",
       "        text-align: right;\n",
       "    }\n",
       "</style>\n",
       "<table border=\"1\" class=\"dataframe\">\n",
       "  <thead>\n",
       "    <tr style=\"text-align: right;\">\n",
       "      <th></th>\n",
       "      <th>Unnamed: 0_x</th>\n",
       "      <th>product_id</th>\n",
       "      <th>product_name</th>\n",
       "      <th>aisle_id</th>\n",
       "      <th>department_id</th>\n",
       "      <th>prices</th>\n",
       "      <th>Unnamed: 0.1</th>\n",
       "      <th>Unnamed: 0_y</th>\n",
       "      <th>order_id</th>\n",
       "      <th>user_id</th>\n",
       "      <th>...</th>\n",
       "      <th>price_range_loc</th>\n",
       "      <th>busiest_day</th>\n",
       "      <th>busiest_days</th>\n",
       "      <th>busiest_period_of_day</th>\n",
       "      <th>max_order</th>\n",
       "      <th>loyalty_flag</th>\n",
       "      <th>mean_product_price</th>\n",
       "      <th>spender_flag</th>\n",
       "      <th>mean_order_frequency</th>\n",
       "      <th>order_frequency_flag</th>\n",
       "    </tr>\n",
       "  </thead>\n",
       "  <tbody>\n",
       "    <tr>\n",
       "      <th>0</th>\n",
       "      <td>0</td>\n",
       "      <td>1</td>\n",
       "      <td>Chocolate Sandwich Cookies</td>\n",
       "      <td>61</td>\n",
       "      <td>19</td>\n",
       "      <td>5.8</td>\n",
       "      <td>1987</td>\n",
       "      <td>1987</td>\n",
       "      <td>3139998</td>\n",
       "      <td>138</td>\n",
       "      <td>...</td>\n",
       "      <td>Mid-range product</td>\n",
       "      <td>Regularly busy</td>\n",
       "      <td>Regularly busy</td>\n",
       "      <td>Most orders</td>\n",
       "      <td>32</td>\n",
       "      <td>Regular customer</td>\n",
       "      <td>6.935811</td>\n",
       "      <td>Low_spender</td>\n",
       "      <td>8.0</td>\n",
       "      <td>Frequent Customer</td>\n",
       "    </tr>\n",
       "    <tr>\n",
       "      <th>1</th>\n",
       "      <td>0</td>\n",
       "      <td>1</td>\n",
       "      <td>Chocolate Sandwich Cookies</td>\n",
       "      <td>61</td>\n",
       "      <td>19</td>\n",
       "      <td>5.8</td>\n",
       "      <td>1989</td>\n",
       "      <td>1989</td>\n",
       "      <td>1977647</td>\n",
       "      <td>138</td>\n",
       "      <td>...</td>\n",
       "      <td>Mid-range product</td>\n",
       "      <td>Regularly busy</td>\n",
       "      <td>Regularly busy</td>\n",
       "      <td>Average orders</td>\n",
       "      <td>32</td>\n",
       "      <td>Regular customer</td>\n",
       "      <td>6.935811</td>\n",
       "      <td>Low_spender</td>\n",
       "      <td>8.0</td>\n",
       "      <td>Frequent Customer</td>\n",
       "    </tr>\n",
       "    <tr>\n",
       "      <th>2</th>\n",
       "      <td>0</td>\n",
       "      <td>1</td>\n",
       "      <td>Chocolate Sandwich Cookies</td>\n",
       "      <td>61</td>\n",
       "      <td>19</td>\n",
       "      <td>5.8</td>\n",
       "      <td>11433</td>\n",
       "      <td>11433</td>\n",
       "      <td>389851</td>\n",
       "      <td>709</td>\n",
       "      <td>...</td>\n",
       "      <td>Mid-range product</td>\n",
       "      <td>Busiest day</td>\n",
       "      <td>Busiest days</td>\n",
       "      <td>Average orders</td>\n",
       "      <td>5</td>\n",
       "      <td>New customer</td>\n",
       "      <td>7.930208</td>\n",
       "      <td>Low_spender</td>\n",
       "      <td>8.0</td>\n",
       "      <td>Frequent Customer</td>\n",
       "    </tr>\n",
       "    <tr>\n",
       "      <th>3</th>\n",
       "      <td>0</td>\n",
       "      <td>1</td>\n",
       "      <td>Chocolate Sandwich Cookies</td>\n",
       "      <td>61</td>\n",
       "      <td>19</td>\n",
       "      <td>5.8</td>\n",
       "      <td>12198</td>\n",
       "      <td>12198</td>\n",
       "      <td>652770</td>\n",
       "      <td>764</td>\n",
       "      <td>...</td>\n",
       "      <td>Mid-range product</td>\n",
       "      <td>Regularly busy</td>\n",
       "      <td>Slowest days</td>\n",
       "      <td>Most orders</td>\n",
       "      <td>3</td>\n",
       "      <td>New customer</td>\n",
       "      <td>4.972414</td>\n",
       "      <td>Low_spender</td>\n",
       "      <td>9.0</td>\n",
       "      <td>Frequent Customer</td>\n",
       "    </tr>\n",
       "    <tr>\n",
       "      <th>4</th>\n",
       "      <td>0</td>\n",
       "      <td>1</td>\n",
       "      <td>Chocolate Sandwich Cookies</td>\n",
       "      <td>61</td>\n",
       "      <td>19</td>\n",
       "      <td>5.8</td>\n",
       "      <td>12200</td>\n",
       "      <td>12200</td>\n",
       "      <td>1813452</td>\n",
       "      <td>764</td>\n",
       "      <td>...</td>\n",
       "      <td>Mid-range product</td>\n",
       "      <td>Least busy</td>\n",
       "      <td>Slowest days</td>\n",
       "      <td>Average orders</td>\n",
       "      <td>3</td>\n",
       "      <td>New customer</td>\n",
       "      <td>4.972414</td>\n",
       "      <td>Low_spender</td>\n",
       "      <td>9.0</td>\n",
       "      <td>Frequent Customer</td>\n",
       "    </tr>\n",
       "  </tbody>\n",
       "</table>\n",
       "<p>5 rows × 27 columns</p>\n",
       "</div>"
      ],
      "text/plain": [
       "   Unnamed: 0_x  product_id                product_name  aisle_id  \\\n",
       "0             0           1  Chocolate Sandwich Cookies        61   \n",
       "1             0           1  Chocolate Sandwich Cookies        61   \n",
       "2             0           1  Chocolate Sandwich Cookies        61   \n",
       "3             0           1  Chocolate Sandwich Cookies        61   \n",
       "4             0           1  Chocolate Sandwich Cookies        61   \n",
       "\n",
       "   department_id  prices  Unnamed: 0.1  Unnamed: 0_y  order_id  user_id  ...  \\\n",
       "0             19     5.8          1987          1987   3139998      138  ...   \n",
       "1             19     5.8          1989          1989   1977647      138  ...   \n",
       "2             19     5.8         11433         11433    389851      709  ...   \n",
       "3             19     5.8         12198         12198    652770      764  ...   \n",
       "4             19     5.8         12200         12200   1813452      764  ...   \n",
       "\n",
       "     price_range_loc     busiest_day    busiest_days  busiest_period_of_day  \\\n",
       "0  Mid-range product  Regularly busy  Regularly busy            Most orders   \n",
       "1  Mid-range product  Regularly busy  Regularly busy         Average orders   \n",
       "2  Mid-range product     Busiest day    Busiest days         Average orders   \n",
       "3  Mid-range product  Regularly busy    Slowest days            Most orders   \n",
       "4  Mid-range product      Least busy    Slowest days         Average orders   \n",
       "\n",
       "   max_order      loyalty_flag mean_product_price spender_flag  \\\n",
       "0         32  Regular customer           6.935811  Low_spender   \n",
       "1         32  Regular customer           6.935811  Low_spender   \n",
       "2          5      New customer           7.930208  Low_spender   \n",
       "3          3      New customer           4.972414  Low_spender   \n",
       "4          3      New customer           4.972414  Low_spender   \n",
       "\n",
       "  mean_order_frequency order_frequency_flag  \n",
       "0                  8.0    Frequent Customer  \n",
       "1                  8.0    Frequent Customer  \n",
       "2                  8.0    Frequent Customer  \n",
       "3                  9.0    Frequent Customer  \n",
       "4                  9.0    Frequent Customer  \n",
       "\n",
       "[5 rows x 27 columns]"
      ]
     },
     "execution_count": 20,
     "metadata": {},
     "output_type": "execute_result"
    }
   ],
   "source": [
    "df_agg.head()"
   ]
  },
  {
   "cell_type": "code",
   "execution_count": 21,
   "id": "2cc26086",
   "metadata": {},
   "outputs": [
    {
     "data": {
      "text/plain": [
       "(32404859, 27)"
      ]
     },
     "execution_count": 21,
     "metadata": {},
     "output_type": "execute_result"
    }
   ],
   "source": [
    "df_agg.shape"
   ]
  },
  {
   "cell_type": "code",
   "execution_count": 22,
   "id": "3209384c",
   "metadata": {
    "scrolled": true
   },
   "outputs": [
    {
     "data": {
      "text/plain": [
       "Unnamed: 0_x                 int64\n",
       "product_id                   int64\n",
       "product_name                object\n",
       "aisle_id                     int64\n",
       "department_id                int64\n",
       "prices                     float64\n",
       "Unnamed: 0.1                 int64\n",
       "Unnamed: 0_y                 int64\n",
       "order_id                     int64\n",
       "user_id                      int64\n",
       "order_number                 int64\n",
       "orders_day_of_week           int64\n",
       "time_of_day                  int64\n",
       "days_since_prior_order     float64\n",
       "add_to_cart_order            int64\n",
       "reordered                    int64\n",
       "_merge                    category\n",
       "price_range_loc             object\n",
       "busiest_day                 object\n",
       "busiest_days                object\n",
       "busiest_period_of_day       object\n",
       "max_order                    int64\n",
       "loyalty_flag                object\n",
       "mean_product_price         float64\n",
       "spender_flag                object\n",
       "mean_order_frequency       float64\n",
       "order_frequency_flag        object\n",
       "dtype: object"
      ]
     },
     "execution_count": 22,
     "metadata": {},
     "output_type": "execute_result"
    }
   ],
   "source": [
    "df_agg.dtypes"
   ]
  },
  {
   "cell_type": "code",
   "execution_count": 23,
   "id": "e759dcb5",
   "metadata": {},
   "outputs": [],
   "source": [
    "#### List of columns to drop to increase merge efficiency\n",
    "columns_to_drop = ['_merge', 'Unnamed: 0_x', 'Unnamed: 0.1', 'Unnamed: 0_y']"
   ]
  },
  {
   "cell_type": "code",
   "execution_count": 24,
   "id": "9115f0f6",
   "metadata": {},
   "outputs": [],
   "source": [
    "#### Drop the specified columns\n",
    "df_agg = df_agg.drop(columns=columns_to_drop)"
   ]
  },
  {
   "cell_type": "code",
   "execution_count": 25,
   "id": "ba4a015d",
   "metadata": {},
   "outputs": [
    {
     "data": {
      "text/plain": [
       "user_id           int64\n",
       "first_name       object\n",
       "surname          object\n",
       "gender           object\n",
       "state            object\n",
       "age               int64\n",
       "dependants        int64\n",
       "family_status    object\n",
       "income            int64\n",
       "dtype: object"
      ]
     },
     "execution_count": 25,
     "metadata": {},
     "output_type": "execute_result"
    }
   ],
   "source": [
    "#### Check dtypes for 'df_no_nans' in order to help thinking through key column\n",
    "df_no_nans.dtypes"
   ]
  },
  {
   "cell_type": "markdown",
   "id": "0663f374",
   "metadata": {},
   "source": [
    "## Conversion of dtypes for significant reduction in memory usage required for merge of dataframes."
   ]
  },
  {
   "cell_type": "markdown",
   "id": "509a7b79",
   "metadata": {},
   "source": [
    "### Conversions for relevant 'df_agg' columns"
   ]
  },
  {
   "cell_type": "code",
   "execution_count": 26,
   "id": "39951a33",
   "metadata": {},
   "outputs": [],
   "source": [
    "#### Convert all 'df_agg_copy' columns to int32 where applicable with the exception of 'reordered' column\n",
    "int32_columns = ['product_id', 'aisle_id', 'order_id', 'user_id', 'add_to_cart_order']"
   ]
  },
  {
   "cell_type": "code",
   "execution_count": 27,
   "id": "dfc58fc3",
   "metadata": {},
   "outputs": [],
   "source": [
    "df_agg[int32_columns] = df_agg[int32_columns].astype('int32')"
   ]
  },
  {
   "cell_type": "code",
   "execution_count": 28,
   "id": "8b36ca25",
   "metadata": {},
   "outputs": [],
   "source": [
    "#### Convert all 'df_agg_copy' columns to int8 where applicable\n",
    "int8_columns = ['department_id', 'order_number', 'orders_day_of_week', 'time_of_day', 'max_order', 'reordered']"
   ]
  },
  {
   "cell_type": "code",
   "execution_count": 29,
   "id": "c6681621",
   "metadata": {},
   "outputs": [],
   "source": [
    "df_agg[int8_columns] = df_agg[int8_columns].astype('int8')"
   ]
  },
  {
   "cell_type": "markdown",
   "id": "a533b2f1",
   "metadata": {},
   "source": [
    "### Conversions for relevant 'df_no_nans' columns"
   ]
  },
  {
   "cell_type": "code",
   "execution_count": 30,
   "id": "30589cac",
   "metadata": {},
   "outputs": [],
   "source": [
    "#### Columns to be converted to int32\n",
    "int32_columns_2 = ['user_id', 'income']\n",
    "df_no_nans[int32_columns_2] = df_no_nans[int32_columns_2].astype('int32')"
   ]
  },
  {
   "cell_type": "code",
   "execution_count": 31,
   "id": "210c3511",
   "metadata": {},
   "outputs": [],
   "source": [
    "#### Columns to be converted to int8\n",
    "int8_columns_2 = ['age', 'dependants']\n",
    "df_no_nans[int8_columns_2] = df_no_nans[int8_columns_2].astype('int8')"
   ]
  },
  {
   "cell_type": "markdown",
   "id": "bb232abe",
   "metadata": {},
   "source": [
    "## Comments: 'user_id' selected as key column for merge of 'df_no_nans' and 'df_agg'. Due to memory demand, merge will be attempted through several steps."
   ]
  },
  {
   "cell_type": "markdown",
   "id": "4d3cd0e6",
   "metadata": {},
   "source": [
    "## Ensuring that the 'user_id' column is indexed in both dataframes ('df_agg' and 'df_no_nans')"
   ]
  },
  {
   "cell_type": "code",
   "execution_count": 32,
   "id": "29406da4",
   "metadata": {},
   "outputs": [],
   "source": [
    "#### Indexing for 'df_agg'\n",
    "df_agg.set_index('user_id', inplace=True)"
   ]
  },
  {
   "cell_type": "code",
   "execution_count": 33,
   "id": "b24883c5",
   "metadata": {},
   "outputs": [],
   "source": [
    "#### Indexing for 'df_no_nans'\n",
    "df_no_nans.set_index('user_id', inplace=True)"
   ]
  },
  {
   "cell_type": "markdown",
   "id": "9f967348",
   "metadata": {},
   "source": [
    "## Using Dask for parallel processing"
   ]
  },
  {
   "cell_type": "code",
   "execution_count": 34,
   "id": "335d0926",
   "metadata": {},
   "outputs": [],
   "source": [
    "import dask.dataframe as dd"
   ]
  },
  {
   "cell_type": "code",
   "execution_count": 35,
   "id": "9ba458e5",
   "metadata": {},
   "outputs": [],
   "source": [
    "#### Chunking 'df_agg' for Dask processing\n",
    "chunk_size = 5000\n",
    "chunks = [df_agg.iloc[i:i + chunk_size] for i in range(0, len(df_agg), chunk_size)]"
   ]
  },
  {
   "cell_type": "code",
   "execution_count": 36,
   "id": "ea7585e8",
   "metadata": {},
   "outputs": [],
   "source": [
    "#### Convert chunks to Dask Dataframes\n",
    "dask_chunks = [dd.from_pandas(chunk, npartitions=1) for chunk in chunks]"
   ]
  },
  {
   "cell_type": "code",
   "execution_count": 37,
   "id": "111087fa",
   "metadata": {},
   "outputs": [],
   "source": [
    "#### Create Dask DataFrame for 'df_no_nans'\n",
    "ddf_no_nans = dd.from_pandas(df_no_nans, npartitions=1)"
   ]
  },
  {
   "cell_type": "code",
   "execution_count": 38,
   "id": "5845aab1",
   "metadata": {},
   "outputs": [],
   "source": [
    "#### Merge Chunks with 'df_no_nans' using Dask\n",
    "dask_merged_chunks = [dd.merge(chunk, ddf_no_nans, on='user_id', how='inner') for chunk in dask_chunks]"
   ]
  },
  {
   "cell_type": "code",
   "execution_count": 39,
   "id": "da1067c6",
   "metadata": {},
   "outputs": [],
   "source": [
    "#### Concatenating the Results\n",
    "ddf_result = dd.concat(dask_merged_chunks)"
   ]
  },
  {
   "cell_type": "code",
   "execution_count": 40,
   "id": "58bfea9b",
   "metadata": {},
   "outputs": [],
   "source": [
    "#### Compute the Final Results\n",
    "df_result = ddf_result.compute()"
   ]
  },
  {
   "cell_type": "markdown",
   "id": "b9a30c67",
   "metadata": {},
   "source": [
    "## Check the Output"
   ]
  },
  {
   "cell_type": "code",
   "execution_count": 41,
   "id": "48b44af9",
   "metadata": {},
   "outputs": [
    {
     "data": {
      "text/html": [
       "<div>\n",
       "<style scoped>\n",
       "    .dataframe tbody tr th:only-of-type {\n",
       "        vertical-align: middle;\n",
       "    }\n",
       "\n",
       "    .dataframe tbody tr th {\n",
       "        vertical-align: top;\n",
       "    }\n",
       "\n",
       "    .dataframe thead th {\n",
       "        text-align: right;\n",
       "    }\n",
       "</style>\n",
       "<table border=\"1\" class=\"dataframe\">\n",
       "  <thead>\n",
       "    <tr style=\"text-align: right;\">\n",
       "      <th></th>\n",
       "      <th>product_id</th>\n",
       "      <th>product_name</th>\n",
       "      <th>aisle_id</th>\n",
       "      <th>department_id</th>\n",
       "      <th>prices</th>\n",
       "      <th>order_id</th>\n",
       "      <th>order_number</th>\n",
       "      <th>orders_day_of_week</th>\n",
       "      <th>time_of_day</th>\n",
       "      <th>days_since_prior_order</th>\n",
       "      <th>...</th>\n",
       "      <th>mean_order_frequency</th>\n",
       "      <th>order_frequency_flag</th>\n",
       "      <th>first_name</th>\n",
       "      <th>surname</th>\n",
       "      <th>gender</th>\n",
       "      <th>state</th>\n",
       "      <th>age</th>\n",
       "      <th>dependants</th>\n",
       "      <th>family_status</th>\n",
       "      <th>income</th>\n",
       "    </tr>\n",
       "    <tr>\n",
       "      <th>user_id</th>\n",
       "      <th></th>\n",
       "      <th></th>\n",
       "      <th></th>\n",
       "      <th></th>\n",
       "      <th></th>\n",
       "      <th></th>\n",
       "      <th></th>\n",
       "      <th></th>\n",
       "      <th></th>\n",
       "      <th></th>\n",
       "      <th></th>\n",
       "      <th></th>\n",
       "      <th></th>\n",
       "      <th></th>\n",
       "      <th></th>\n",
       "      <th></th>\n",
       "      <th></th>\n",
       "      <th></th>\n",
       "      <th></th>\n",
       "      <th></th>\n",
       "      <th></th>\n",
       "    </tr>\n",
       "  </thead>\n",
       "  <tbody>\n",
       "    <tr>\n",
       "      <th>115</th>\n",
       "      <td>10</td>\n",
       "      <td>Sparkling Orange Juice &amp; Prickly Pear Beverage</td>\n",
       "      <td>115</td>\n",
       "      <td>7</td>\n",
       "      <td>8.4</td>\n",
       "      <td>3278419</td>\n",
       "      <td>9</td>\n",
       "      <td>4</td>\n",
       "      <td>18</td>\n",
       "      <td>4.0</td>\n",
       "      <td>...</td>\n",
       "      <td>10.0</td>\n",
       "      <td>Frequent Customer</td>\n",
       "      <td>Carol</td>\n",
       "      <td>Soto</td>\n",
       "      <td>Female</td>\n",
       "      <td>Idaho</td>\n",
       "      <td>77</td>\n",
       "      <td>3</td>\n",
       "      <td>married</td>\n",
       "      <td>98736</td>\n",
       "    </tr>\n",
       "    <tr>\n",
       "      <th>138</th>\n",
       "      <td>1</td>\n",
       "      <td>Chocolate Sandwich Cookies</td>\n",
       "      <td>61</td>\n",
       "      <td>19</td>\n",
       "      <td>5.8</td>\n",
       "      <td>3139998</td>\n",
       "      <td>28</td>\n",
       "      <td>6</td>\n",
       "      <td>11</td>\n",
       "      <td>3.0</td>\n",
       "      <td>...</td>\n",
       "      <td>8.0</td>\n",
       "      <td>Frequent Customer</td>\n",
       "      <td>Charles</td>\n",
       "      <td>Cox</td>\n",
       "      <td>Male</td>\n",
       "      <td>Minnesota</td>\n",
       "      <td>81</td>\n",
       "      <td>1</td>\n",
       "      <td>married</td>\n",
       "      <td>49620</td>\n",
       "    </tr>\n",
       "    <tr>\n",
       "      <th>138</th>\n",
       "      <td>1</td>\n",
       "      <td>Chocolate Sandwich Cookies</td>\n",
       "      <td>61</td>\n",
       "      <td>19</td>\n",
       "      <td>5.8</td>\n",
       "      <td>1977647</td>\n",
       "      <td>30</td>\n",
       "      <td>6</td>\n",
       "      <td>17</td>\n",
       "      <td>20.0</td>\n",
       "      <td>...</td>\n",
       "      <td>8.0</td>\n",
       "      <td>Frequent Customer</td>\n",
       "      <td>Charles</td>\n",
       "      <td>Cox</td>\n",
       "      <td>Male</td>\n",
       "      <td>Minnesota</td>\n",
       "      <td>81</td>\n",
       "      <td>1</td>\n",
       "      <td>married</td>\n",
       "      <td>49620</td>\n",
       "    </tr>\n",
       "    <tr>\n",
       "      <th>225</th>\n",
       "      <td>9</td>\n",
       "      <td>Light Strawberry Blueberry Yogurt</td>\n",
       "      <td>120</td>\n",
       "      <td>16</td>\n",
       "      <td>7.0</td>\n",
       "      <td>169443</td>\n",
       "      <td>11</td>\n",
       "      <td>4</td>\n",
       "      <td>10</td>\n",
       "      <td>6.0</td>\n",
       "      <td>...</td>\n",
       "      <td>15.0</td>\n",
       "      <td>Regular customer</td>\n",
       "      <td>Elizabeth</td>\n",
       "      <td>Tapia</td>\n",
       "      <td>Female</td>\n",
       "      <td>Montana</td>\n",
       "      <td>76</td>\n",
       "      <td>3</td>\n",
       "      <td>married</td>\n",
       "      <td>69724</td>\n",
       "    </tr>\n",
       "    <tr>\n",
       "      <th>295</th>\n",
       "      <td>10</td>\n",
       "      <td>Sparkling Orange Juice &amp; Prickly Pear Beverage</td>\n",
       "      <td>115</td>\n",
       "      <td>7</td>\n",
       "      <td>8.4</td>\n",
       "      <td>2287043</td>\n",
       "      <td>7</td>\n",
       "      <td>4</td>\n",
       "      <td>13</td>\n",
       "      <td>1.0</td>\n",
       "      <td>...</td>\n",
       "      <td>6.0</td>\n",
       "      <td>Frequent Customer</td>\n",
       "      <td>John</td>\n",
       "      <td>Harris</td>\n",
       "      <td>Male</td>\n",
       "      <td>Rhode Island</td>\n",
       "      <td>51</td>\n",
       "      <td>2</td>\n",
       "      <td>married</td>\n",
       "      <td>167566</td>\n",
       "    </tr>\n",
       "  </tbody>\n",
       "</table>\n",
       "<p>5 rows × 30 columns</p>\n",
       "</div>"
      ],
      "text/plain": [
       "         product_id                                    product_name  aisle_id  \\\n",
       "user_id                                                                         \n",
       "115              10  Sparkling Orange Juice & Prickly Pear Beverage       115   \n",
       "138               1                      Chocolate Sandwich Cookies        61   \n",
       "138               1                      Chocolate Sandwich Cookies        61   \n",
       "225               9               Light Strawberry Blueberry Yogurt       120   \n",
       "295              10  Sparkling Orange Juice & Prickly Pear Beverage       115   \n",
       "\n",
       "         department_id  prices  order_id  order_number  orders_day_of_week  \\\n",
       "user_id                                                                      \n",
       "115                  7     8.4   3278419             9                   4   \n",
       "138                 19     5.8   3139998            28                   6   \n",
       "138                 19     5.8   1977647            30                   6   \n",
       "225                 16     7.0    169443            11                   4   \n",
       "295                  7     8.4   2287043             7                   4   \n",
       "\n",
       "         time_of_day  days_since_prior_order  ...  mean_order_frequency  \\\n",
       "user_id                                       ...                         \n",
       "115               18                     4.0  ...                  10.0   \n",
       "138               11                     3.0  ...                   8.0   \n",
       "138               17                    20.0  ...                   8.0   \n",
       "225               10                     6.0  ...                  15.0   \n",
       "295               13                     1.0  ...                   6.0   \n",
       "\n",
       "         order_frequency_flag first_name surname  gender         state  age  \\\n",
       "user_id                                                                       \n",
       "115         Frequent Customer      Carol    Soto  Female         Idaho   77   \n",
       "138         Frequent Customer    Charles     Cox    Male     Minnesota   81   \n",
       "138         Frequent Customer    Charles     Cox    Male     Minnesota   81   \n",
       "225          Regular customer  Elizabeth   Tapia  Female       Montana   76   \n",
       "295         Frequent Customer       John  Harris    Male  Rhode Island   51   \n",
       "\n",
       "        dependants  family_status  income  \n",
       "user_id                                    \n",
       "115              3        married   98736  \n",
       "138              1        married   49620  \n",
       "138              1        married   49620  \n",
       "225              3        married   69724  \n",
       "295              2        married  167566  \n",
       "\n",
       "[5 rows x 30 columns]"
      ]
     },
     "execution_count": 41,
     "metadata": {},
     "output_type": "execute_result"
    }
   ],
   "source": [
    "df_result.head()"
   ]
  },
  {
   "cell_type": "code",
   "execution_count": 42,
   "id": "c5fba6a5",
   "metadata": {},
   "outputs": [
    {
     "data": {
      "text/plain": [
       "(32404859, 30)"
      ]
     },
     "execution_count": 42,
     "metadata": {},
     "output_type": "execute_result"
    }
   ],
   "source": [
    "df_result.shape"
   ]
  },
  {
   "cell_type": "markdown",
   "id": "cc1d8e34",
   "metadata": {},
   "source": [
    "# Export the 'df_result' as a pkl file"
   ]
  },
  {
   "cell_type": "code",
   "execution_count": 43,
   "id": "a0d592b8",
   "metadata": {},
   "outputs": [],
   "source": [
    "#### Specify the path and filename\n",
    "file_path = r'C:\\Users\\cemel\\Documents\\30-12-2023 Instacart Basket Analysis (Achievement 4)\\02 Data\\Prepared Data\\ords_prods_agg_pythonviz.pkl'"
   ]
  },
  {
   "cell_type": "code",
   "execution_count": 44,
   "id": "afc43e8e",
   "metadata": {},
   "outputs": [],
   "source": [
    "#### Export DataFrame to pickle file\n",
    "df_result.to_pickle(file_path)"
   ]
  },
  {
   "cell_type": "code",
   "execution_count": null,
   "id": "0b69a3d5",
   "metadata": {},
   "outputs": [],
   "source": []
  }
 ],
 "metadata": {
  "kernelspec": {
   "display_name": "Python 3 (ipykernel)",
   "language": "python",
   "name": "python3"
  },
  "language_info": {
   "codemirror_mode": {
    "name": "ipython",
    "version": 3
   },
   "file_extension": ".py",
   "mimetype": "text/x-python",
   "name": "python",
   "nbconvert_exporter": "python",
   "pygments_lexer": "ipython3",
   "version": "3.11.5"
  }
 },
 "nbformat": 4,
 "nbformat_minor": 5
}
