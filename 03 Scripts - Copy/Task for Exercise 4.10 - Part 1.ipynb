{
 "cells": [
  {
   "cell_type": "markdown",
   "id": "06ca56f1",
   "metadata": {},
   "source": [
    "# Table of Contents"
   ]
  },
  {
   "cell_type": "markdown",
   "id": "e41a3d1e",
   "metadata": {},
   "source": [
    "## 01. Importing Libraries & Data"
   ]
  },
  {
   "cell_type": "markdown",
   "id": "c6792941",
   "metadata": {},
   "source": [
    "## 02. Security Implications for Data (Personally Identifiable Information [PII])"
   ]
  },
  {
   "cell_type": "markdown",
   "id": "f38354cc",
   "metadata": {},
   "source": [
    "## 03. Regional Segmentation of Data (Evaluating Regional Customer Behavior)"
   ]
  },
  {
   "cell_type": "markdown",
   "id": "1b5b6309",
   "metadata": {},
   "source": [
    "## 04. Exclusion Flags for Low-Activity Customers"
   ]
  },
  {
   "cell_type": "markdown",
   "id": "a1856d65",
   "metadata": {},
   "source": [
    "## End of Script. See 'Task for Exercise 4.10 - Part 2' for continuation. "
   ]
  },
  {
   "cell_type": "markdown",
   "id": "e33e1699",
   "metadata": {},
   "source": [
    "# 01. Importing Libraries & Data"
   ]
  },
  {
   "cell_type": "code",
   "execution_count": 1,
   "id": "2c3df24b",
   "metadata": {},
   "outputs": [],
   "source": [
    "#### Import libraries\n",
    "import pandas as pd\n",
    "import numpy as np\n",
    "import os\n",
    "import matplotlib.pyplot as plt\n",
    "import seaborn as sns\n",
    "import scipy"
   ]
  },
  {
   "cell_type": "code",
   "execution_count": 2,
   "id": "35bbf02f",
   "metadata": {},
   "outputs": [],
   "source": [
    "#### Define path\n",
    "pickle_file_path = os.path.join(\n",
    "    r'C:\\Users\\cemel\\Documents\\30-12-2023 Instacart Basket Analysis (Achievement 4)',\n",
    "    '02 Data', 'Prepared Data', 'ords_prods_agg_pythonviz.pkl'\n",
    ")"
   ]
  },
  {
   "cell_type": "code",
   "execution_count": 3,
   "id": "3f84aa1a",
   "metadata": {},
   "outputs": [],
   "source": [
    "#### Load the pickle file into Pandas DataFrame\n",
    "df_task = pd.read_pickle(pickle_file_path)"
   ]
  },
  {
   "cell_type": "markdown",
   "id": "94f09758",
   "metadata": {},
   "source": [
    "## Check the Output"
   ]
  },
  {
   "cell_type": "code",
   "execution_count": 4,
   "id": "b2c6068c",
   "metadata": {},
   "outputs": [
    {
     "data": {
      "text/html": [
       "<div>\n",
       "<style scoped>\n",
       "    .dataframe tbody tr th:only-of-type {\n",
       "        vertical-align: middle;\n",
       "    }\n",
       "\n",
       "    .dataframe tbody tr th {\n",
       "        vertical-align: top;\n",
       "    }\n",
       "\n",
       "    .dataframe thead th {\n",
       "        text-align: right;\n",
       "    }\n",
       "</style>\n",
       "<table border=\"1\" class=\"dataframe\">\n",
       "  <thead>\n",
       "    <tr style=\"text-align: right;\">\n",
       "      <th></th>\n",
       "      <th>product_id</th>\n",
       "      <th>product_name</th>\n",
       "      <th>aisle_id</th>\n",
       "      <th>department_id</th>\n",
       "      <th>prices</th>\n",
       "      <th>order_id</th>\n",
       "      <th>order_number</th>\n",
       "      <th>orders_day_of_week</th>\n",
       "      <th>time_of_day</th>\n",
       "      <th>days_since_prior_order</th>\n",
       "      <th>...</th>\n",
       "      <th>mean_order_frequency</th>\n",
       "      <th>order_frequency_flag</th>\n",
       "      <th>first_name</th>\n",
       "      <th>surname</th>\n",
       "      <th>gender</th>\n",
       "      <th>state</th>\n",
       "      <th>age</th>\n",
       "      <th>dependants</th>\n",
       "      <th>family_status</th>\n",
       "      <th>income</th>\n",
       "    </tr>\n",
       "    <tr>\n",
       "      <th>user_id</th>\n",
       "      <th></th>\n",
       "      <th></th>\n",
       "      <th></th>\n",
       "      <th></th>\n",
       "      <th></th>\n",
       "      <th></th>\n",
       "      <th></th>\n",
       "      <th></th>\n",
       "      <th></th>\n",
       "      <th></th>\n",
       "      <th></th>\n",
       "      <th></th>\n",
       "      <th></th>\n",
       "      <th></th>\n",
       "      <th></th>\n",
       "      <th></th>\n",
       "      <th></th>\n",
       "      <th></th>\n",
       "      <th></th>\n",
       "      <th></th>\n",
       "      <th></th>\n",
       "    </tr>\n",
       "  </thead>\n",
       "  <tbody>\n",
       "    <tr>\n",
       "      <th>115</th>\n",
       "      <td>10</td>\n",
       "      <td>Sparkling Orange Juice &amp; Prickly Pear Beverage</td>\n",
       "      <td>115</td>\n",
       "      <td>7</td>\n",
       "      <td>8.4</td>\n",
       "      <td>3278419</td>\n",
       "      <td>9</td>\n",
       "      <td>4</td>\n",
       "      <td>18</td>\n",
       "      <td>4.0</td>\n",
       "      <td>...</td>\n",
       "      <td>10.0</td>\n",
       "      <td>Frequent Customer</td>\n",
       "      <td>Carol</td>\n",
       "      <td>Soto</td>\n",
       "      <td>Female</td>\n",
       "      <td>Idaho</td>\n",
       "      <td>77</td>\n",
       "      <td>3</td>\n",
       "      <td>married</td>\n",
       "      <td>98736</td>\n",
       "    </tr>\n",
       "    <tr>\n",
       "      <th>138</th>\n",
       "      <td>1</td>\n",
       "      <td>Chocolate Sandwich Cookies</td>\n",
       "      <td>61</td>\n",
       "      <td>19</td>\n",
       "      <td>5.8</td>\n",
       "      <td>3139998</td>\n",
       "      <td>28</td>\n",
       "      <td>6</td>\n",
       "      <td>11</td>\n",
       "      <td>3.0</td>\n",
       "      <td>...</td>\n",
       "      <td>8.0</td>\n",
       "      <td>Frequent Customer</td>\n",
       "      <td>Charles</td>\n",
       "      <td>Cox</td>\n",
       "      <td>Male</td>\n",
       "      <td>Minnesota</td>\n",
       "      <td>81</td>\n",
       "      <td>1</td>\n",
       "      <td>married</td>\n",
       "      <td>49620</td>\n",
       "    </tr>\n",
       "    <tr>\n",
       "      <th>138</th>\n",
       "      <td>1</td>\n",
       "      <td>Chocolate Sandwich Cookies</td>\n",
       "      <td>61</td>\n",
       "      <td>19</td>\n",
       "      <td>5.8</td>\n",
       "      <td>1977647</td>\n",
       "      <td>30</td>\n",
       "      <td>6</td>\n",
       "      <td>17</td>\n",
       "      <td>20.0</td>\n",
       "      <td>...</td>\n",
       "      <td>8.0</td>\n",
       "      <td>Frequent Customer</td>\n",
       "      <td>Charles</td>\n",
       "      <td>Cox</td>\n",
       "      <td>Male</td>\n",
       "      <td>Minnesota</td>\n",
       "      <td>81</td>\n",
       "      <td>1</td>\n",
       "      <td>married</td>\n",
       "      <td>49620</td>\n",
       "    </tr>\n",
       "    <tr>\n",
       "      <th>225</th>\n",
       "      <td>9</td>\n",
       "      <td>Light Strawberry Blueberry Yogurt</td>\n",
       "      <td>120</td>\n",
       "      <td>16</td>\n",
       "      <td>7.0</td>\n",
       "      <td>169443</td>\n",
       "      <td>11</td>\n",
       "      <td>4</td>\n",
       "      <td>10</td>\n",
       "      <td>6.0</td>\n",
       "      <td>...</td>\n",
       "      <td>15.0</td>\n",
       "      <td>Regular customer</td>\n",
       "      <td>Elizabeth</td>\n",
       "      <td>Tapia</td>\n",
       "      <td>Female</td>\n",
       "      <td>Montana</td>\n",
       "      <td>76</td>\n",
       "      <td>3</td>\n",
       "      <td>married</td>\n",
       "      <td>69724</td>\n",
       "    </tr>\n",
       "    <tr>\n",
       "      <th>295</th>\n",
       "      <td>10</td>\n",
       "      <td>Sparkling Orange Juice &amp; Prickly Pear Beverage</td>\n",
       "      <td>115</td>\n",
       "      <td>7</td>\n",
       "      <td>8.4</td>\n",
       "      <td>2287043</td>\n",
       "      <td>7</td>\n",
       "      <td>4</td>\n",
       "      <td>13</td>\n",
       "      <td>1.0</td>\n",
       "      <td>...</td>\n",
       "      <td>6.0</td>\n",
       "      <td>Frequent Customer</td>\n",
       "      <td>John</td>\n",
       "      <td>Harris</td>\n",
       "      <td>Male</td>\n",
       "      <td>Rhode Island</td>\n",
       "      <td>51</td>\n",
       "      <td>2</td>\n",
       "      <td>married</td>\n",
       "      <td>167566</td>\n",
       "    </tr>\n",
       "  </tbody>\n",
       "</table>\n",
       "<p>5 rows × 30 columns</p>\n",
       "</div>"
      ],
      "text/plain": [
       "         product_id                                    product_name  aisle_id  \\\n",
       "user_id                                                                         \n",
       "115              10  Sparkling Orange Juice & Prickly Pear Beverage       115   \n",
       "138               1                      Chocolate Sandwich Cookies        61   \n",
       "138               1                      Chocolate Sandwich Cookies        61   \n",
       "225               9               Light Strawberry Blueberry Yogurt       120   \n",
       "295              10  Sparkling Orange Juice & Prickly Pear Beverage       115   \n",
       "\n",
       "         department_id  prices  order_id  order_number  orders_day_of_week  \\\n",
       "user_id                                                                      \n",
       "115                  7     8.4   3278419             9                   4   \n",
       "138                 19     5.8   3139998            28                   6   \n",
       "138                 19     5.8   1977647            30                   6   \n",
       "225                 16     7.0    169443            11                   4   \n",
       "295                  7     8.4   2287043             7                   4   \n",
       "\n",
       "         time_of_day  days_since_prior_order  ...  mean_order_frequency  \\\n",
       "user_id                                       ...                         \n",
       "115               18                     4.0  ...                  10.0   \n",
       "138               11                     3.0  ...                   8.0   \n",
       "138               17                    20.0  ...                   8.0   \n",
       "225               10                     6.0  ...                  15.0   \n",
       "295               13                     1.0  ...                   6.0   \n",
       "\n",
       "         order_frequency_flag first_name surname  gender         state  age  \\\n",
       "user_id                                                                       \n",
       "115         Frequent Customer      Carol    Soto  Female         Idaho   77   \n",
       "138         Frequent Customer    Charles     Cox    Male     Minnesota   81   \n",
       "138         Frequent Customer    Charles     Cox    Male     Minnesota   81   \n",
       "225          Regular customer  Elizabeth   Tapia  Female       Montana   76   \n",
       "295         Frequent Customer       John  Harris    Male  Rhode Island   51   \n",
       "\n",
       "        dependants  family_status  income  \n",
       "user_id                                    \n",
       "115              3        married   98736  \n",
       "138              1        married   49620  \n",
       "138              1        married   49620  \n",
       "225              3        married   69724  \n",
       "295              2        married  167566  \n",
       "\n",
       "[5 rows x 30 columns]"
      ]
     },
     "execution_count": 4,
     "metadata": {},
     "output_type": "execute_result"
    }
   ],
   "source": [
    "df_task.head()"
   ]
  },
  {
   "cell_type": "code",
   "execution_count": 5,
   "id": "773b6c55",
   "metadata": {},
   "outputs": [
    {
     "data": {
      "text/plain": [
       "(32404859, 30)"
      ]
     },
     "execution_count": 5,
     "metadata": {},
     "output_type": "execute_result"
    }
   ],
   "source": [
    "df_task.shape"
   ]
  },
  {
   "cell_type": "markdown",
   "id": "408083df",
   "metadata": {},
   "source": [
    "# 02. Consider security implications that might exist for the new data (Personally Identifiable Information - PII)"
   ]
  },
  {
   "cell_type": "code",
   "execution_count": 6,
   "id": "e88e5bda",
   "metadata": {},
   "outputs": [],
   "source": [
    "#### Remove the 'first_name' and 'last_name' columns due to the fact that they constitute PII\n",
    "df_task2 = df_task.drop(['first_name', 'surname', 'busiest_day'], axis=1)"
   ]
  },
  {
   "cell_type": "code",
   "execution_count": 7,
   "id": "3fcbd1ad",
   "metadata": {
    "scrolled": true
   },
   "outputs": [
    {
     "data": {
      "text/plain": [
       "Index(['product_id', 'product_name', 'aisle_id', 'department_id', 'prices',\n",
       "       'order_id', 'order_number', 'orders_day_of_week', 'time_of_day',\n",
       "       'days_since_prior_order', 'add_to_cart_order', 'reordered',\n",
       "       'price_range_loc', 'busiest_days', 'busiest_period_of_day', 'max_order',\n",
       "       'loyalty_flag', 'mean_product_price', 'spender_flag',\n",
       "       'mean_order_frequency', 'order_frequency_flag', 'gender', 'state',\n",
       "       'age', 'dependants', 'family_status', 'income'],\n",
       "      dtype='object')"
      ]
     },
     "execution_count": 7,
     "metadata": {},
     "output_type": "execute_result"
    }
   ],
   "source": [
    "df_task2.columns"
   ]
  },
  {
   "cell_type": "markdown",
   "id": "a7bc410c",
   "metadata": {},
   "source": [
    "### Comments: 'busiest_day' included in columns removed because redundant alongside 'busiest_days' not because it constituted PII"
   ]
  },
  {
   "cell_type": "markdown",
   "id": "0fe4c233",
   "metadata": {},
   "source": [
    "# 03.  Create a regional segmentation of the data comparing customer behavior in different geographic areas"
   ]
  },
  {
   "cell_type": "code",
   "execution_count": 8,
   "id": "25b5ad03",
   "metadata": {},
   "outputs": [],
   "source": [
    "df_task2.loc[(df_task2['state'] =='Maine') \n",
    "         | (df_task2['state'] == 'New Hampshire') \n",
    "         | (df_task2['state'] == 'Vermont')\n",
    "         | (df_task2['state'] == 'Massachusetts')\n",
    "         | (df_task2['state'] == 'Rhode Island')\n",
    "         | (df_task2['state'] == 'Connecticut')\n",
    "         | (df_task2['state'] == 'New York')\n",
    "         | (df_task2['state'] == 'Pennsylvania')\n",
    "         | (df_task2['state'] == 'New Jersey'), 'region'] = 'Northeast'"
   ]
  },
  {
   "cell_type": "code",
   "execution_count": 9,
   "id": "d65e9ff9",
   "metadata": {},
   "outputs": [],
   "source": [
    "df_task2.loc[(df_task2['state'] =='Wisconsin') \n",
    "         | (df_task2['state'] == 'Michigan') \n",
    "         | (df_task2['state'] == 'Illinois')\n",
    "         | (df_task2['state'] == 'Indiana')\n",
    "         | (df_task2['state'] == 'Ohio')\n",
    "         | (df_task2['state'] == 'North Dakota')\n",
    "         | (df_task2['state'] == 'South Dakota')\n",
    "         | (df_task2['state'] == 'Nebraska')\n",
    "         | (df_task2['state'] == 'Kansas') \n",
    "         | (df_task2['state'] == 'Minnesota')\n",
    "         | (df_task2['state'] == 'Iowa')\n",
    "         | (df_task2['state'] == 'Missouri'), 'region'] = 'Midwest'"
   ]
  },
  {
   "cell_type": "code",
   "execution_count": 10,
   "id": "a77117ac",
   "metadata": {},
   "outputs": [],
   "source": [
    "df_task2.loc[(df_task2['state'] =='Delaware') \n",
    "         | (df_task2['state'] == 'Maryland') \n",
    "         | (df_task2['state'] == 'District of Columbia')\n",
    "         | (df_task2['state'] == 'Virginia')\n",
    "         | (df_task2['state'] == 'West Virginia')\n",
    "         | (df_task2['state'] == 'North Carolina')\n",
    "         | (df_task2['state'] == 'South Carolina')\n",
    "         | (df_task2['state'] == 'Georgia')\n",
    "         | (df_task2['state'] == 'Florida') \n",
    "         | (df_task2['state'] == 'Kentucky')\n",
    "         | (df_task2['state'] == 'Tennessee')\n",
    "         | (df_task2['state'] == 'Mississippi')\n",
    "         | (df_task2['state'] == 'Alabama')\n",
    "         | (df_task2['state'] == 'Oklahoma')\n",
    "         | (df_task2['state'] == 'Texas')\n",
    "         | (df_task2['state'] == 'Arkansas')\n",
    "         | (df_task2['state'] == 'Louisiana'), 'region'] = 'South'"
   ]
  },
  {
   "cell_type": "code",
   "execution_count": 11,
   "id": "3a7a2a24",
   "metadata": {},
   "outputs": [],
   "source": [
    "df_task2.loc[(df_task2['state'] =='Idaho') \n",
    "         | (df_task2['state'] == 'Montana') \n",
    "         | (df_task2['state'] == 'Wyoming')\n",
    "         | (df_task2['state'] == 'Nevada')\n",
    "         | (df_task2['state'] == 'Utah')\n",
    "         | (df_task2['state'] == 'Colorado')\n",
    "         | (df_task2['state'] == 'Arizona')\n",
    "         | (df_task2['state'] == 'New Mexico')\n",
    "         | (df_task2['state'] == 'Alaska') \n",
    "         | (df_task2['state'] == 'Washington')\n",
    "         | (df_task2['state'] == 'Oregon')\n",
    "         | (df_task2['state'] == 'California')\n",
    "         | (df_task2['state'] == 'Hawaii'), 'region'] = 'West'"
   ]
  },
  {
   "cell_type": "markdown",
   "id": "69d25046",
   "metadata": {},
   "source": [
    "## 'region' column check "
   ]
  },
  {
   "cell_type": "code",
   "execution_count": 12,
   "id": "dbac2a0c",
   "metadata": {
    "scrolled": true
   },
   "outputs": [
    {
     "data": {
      "text/plain": [
       "region\n",
       "South        10791885\n",
       "West          8292913\n",
       "Midwest       7597325\n",
       "Northeast     5722736\n",
       "Name: count, dtype: int64"
      ]
     },
     "execution_count": 12,
     "metadata": {},
     "output_type": "execute_result"
    }
   ],
   "source": [
    "# Perform value_counts() by 'region'\n",
    "df_task2['region'].value_counts()"
   ]
  },
  {
   "cell_type": "code",
   "execution_count": 13,
   "id": "602a1cb4",
   "metadata": {},
   "outputs": [
    {
     "data": {
      "text/plain": [
       "count     32404859\n",
       "unique           4\n",
       "top          South\n",
       "freq      10791885\n",
       "Name: region, dtype: object"
      ]
     },
     "execution_count": 13,
     "metadata": {},
     "output_type": "execute_result"
    }
   ],
   "source": [
    "df_task2['region'].describe()"
   ]
  },
  {
   "cell_type": "code",
   "execution_count": 14,
   "id": "20e75374",
   "metadata": {},
   "outputs": [
    {
     "data": {
      "text/plain": [
       "0"
      ]
     },
     "execution_count": 14,
     "metadata": {},
     "output_type": "execute_result"
    }
   ],
   "source": [
    "df_task2['region'].isnull().sum()"
   ]
  },
  {
   "cell_type": "markdown",
   "id": "e633b8ce",
   "metadata": {},
   "source": [
    "## Determine whether there’s a difference in spending habits between the different U.S. regions (Will cross 'region' variable with 'spender_flag' variable)"
   ]
  },
  {
   "cell_type": "code",
   "execution_count": 15,
   "id": "f28265a5",
   "metadata": {},
   "outputs": [],
   "source": [
    "#### Create crosstab of 'region' and 'spender_flag' columns\n",
    "ctab_region_spender = pd.crosstab(df_task2['region'], df_task2['spender_flag'], dropna = False)"
   ]
  },
  {
   "cell_type": "code",
   "execution_count": 16,
   "id": "dad08c0b",
   "metadata": {},
   "outputs": [],
   "source": [
    "#### Export crosstab table to clipboard\n",
    "ctab_region_spender.to_clipboard()"
   ]
  },
  {
   "cell_type": "markdown",
   "id": "58d2f0a9",
   "metadata": {},
   "source": [
    "### Table of data on regional spending habits as created in Excel"
   ]
  },
  {
   "cell_type": "code",
   "execution_count": 17,
   "id": "467ba1c9",
   "metadata": {},
   "outputs": [],
   "source": [
    "#### Read the Excel file into a Pandas Dataframe\n",
    "df_spendhab_reg = pd.read_excel(r'C:\\Users\\cemel\\OneDrive\\Documents\\CareerFoundry Documents\\Data Immersion\\Achievement 4 Files\\Task for Exercise 4.10 - Part 1.xlsx')"
   ]
  },
  {
   "cell_type": "code",
   "execution_count": 18,
   "id": "7cc0f95a",
   "metadata": {
    "scrolled": true
   },
   "outputs": [
    {
     "data": {
      "text/html": [
       "<div>\n",
       "<style scoped>\n",
       "    .dataframe tbody tr th:only-of-type {\n",
       "        vertical-align: middle;\n",
       "    }\n",
       "\n",
       "    .dataframe tbody tr th {\n",
       "        vertical-align: top;\n",
       "    }\n",
       "\n",
       "    .dataframe thead th {\n",
       "        text-align: right;\n",
       "    }\n",
       "</style>\n",
       "<table border=\"1\" class=\"dataframe\">\n",
       "  <thead>\n",
       "    <tr style=\"text-align: right;\">\n",
       "      <th></th>\n",
       "      <th>Unnamed: 0</th>\n",
       "      <th>region'</th>\n",
       "      <th>High_spender</th>\n",
       "      <th>Low_spender</th>\n",
       "      <th>Total_spender</th>\n",
       "      <th>% of spender by 'region'</th>\n",
       "      <th>% of High_spender by 'region'</th>\n",
       "      <th>% of Low_spender by 'region'</th>\n",
       "      <th>% of 'region' in High_spender</th>\n",
       "      <th>% of 'region' in Low_spender</th>\n",
       "    </tr>\n",
       "  </thead>\n",
       "  <tbody>\n",
       "    <tr>\n",
       "      <th>0</th>\n",
       "      <td>NaN</td>\n",
       "      <td>South</td>\n",
       "      <td>209691.0</td>\n",
       "      <td>10582194.0</td>\n",
       "      <td>10791885.0</td>\n",
       "      <td>0.333033</td>\n",
       "      <td>0.019430</td>\n",
       "      <td>0.980570</td>\n",
       "      <td>0.330615</td>\n",
       "      <td>0.333081</td>\n",
       "    </tr>\n",
       "    <tr>\n",
       "      <th>1</th>\n",
       "      <td>NaN</td>\n",
       "      <td>West</td>\n",
       "      <td>160354.0</td>\n",
       "      <td>8132559.0</td>\n",
       "      <td>8292913.0</td>\n",
       "      <td>0.255916</td>\n",
       "      <td>0.019336</td>\n",
       "      <td>0.980664</td>\n",
       "      <td>0.252827</td>\n",
       "      <td>0.255977</td>\n",
       "    </tr>\n",
       "    <tr>\n",
       "      <th>2</th>\n",
       "      <td>NaN</td>\n",
       "      <td>Midwest</td>\n",
       "      <td>155975.0</td>\n",
       "      <td>7441350.0</td>\n",
       "      <td>7597325.0</td>\n",
       "      <td>0.234450</td>\n",
       "      <td>0.020530</td>\n",
       "      <td>0.979470</td>\n",
       "      <td>0.245922</td>\n",
       "      <td>0.234221</td>\n",
       "    </tr>\n",
       "    <tr>\n",
       "      <th>3</th>\n",
       "      <td>NaN</td>\n",
       "      <td>Northeast</td>\n",
       "      <td>108225.0</td>\n",
       "      <td>5614511.0</td>\n",
       "      <td>5722736.0</td>\n",
       "      <td>0.176601</td>\n",
       "      <td>0.018911</td>\n",
       "      <td>0.981089</td>\n",
       "      <td>0.170636</td>\n",
       "      <td>0.176720</td>\n",
       "    </tr>\n",
       "    <tr>\n",
       "      <th>4</th>\n",
       "      <td>NaN</td>\n",
       "      <td>Total</td>\n",
       "      <td>634245.0</td>\n",
       "      <td>31770614.0</td>\n",
       "      <td>32404859.0</td>\n",
       "      <td>1.000000</td>\n",
       "      <td>NaN</td>\n",
       "      <td>NaN</td>\n",
       "      <td>1.000000</td>\n",
       "      <td>1.000000</td>\n",
       "    </tr>\n",
       "    <tr>\n",
       "      <th>5</th>\n",
       "      <td>NaN</td>\n",
       "      <td>NaN</td>\n",
       "      <td>NaN</td>\n",
       "      <td>NaN</td>\n",
       "      <td>NaN</td>\n",
       "      <td>NaN</td>\n",
       "      <td>NaN</td>\n",
       "      <td>NaN</td>\n",
       "      <td>NaN</td>\n",
       "      <td>NaN</td>\n",
       "    </tr>\n",
       "    <tr>\n",
       "      <th>6</th>\n",
       "      <td>NaN</td>\n",
       "      <td>Comments (Column D):The 'Low_spender' column r...</td>\n",
       "      <td>NaN</td>\n",
       "      <td>NaN</td>\n",
       "      <td>NaN</td>\n",
       "      <td>NaN</td>\n",
       "      <td>NaN</td>\n",
       "      <td>NaN</td>\n",
       "      <td>NaN</td>\n",
       "      <td>NaN</td>\n",
       "    </tr>\n",
       "    <tr>\n",
       "      <th>7</th>\n",
       "      <td>NaN</td>\n",
       "      <td>NaN</td>\n",
       "      <td>NaN</td>\n",
       "      <td>NaN</td>\n",
       "      <td>NaN</td>\n",
       "      <td>NaN</td>\n",
       "      <td>NaN</td>\n",
       "      <td>NaN</td>\n",
       "      <td>NaN</td>\n",
       "      <td>NaN</td>\n",
       "    </tr>\n",
       "    <tr>\n",
       "      <th>8</th>\n",
       "      <td>NaN</td>\n",
       "      <td>Comments (Columns C&amp;E): Both the 'High-Spender...</td>\n",
       "      <td>NaN</td>\n",
       "      <td>NaN</td>\n",
       "      <td>NaN</td>\n",
       "      <td>NaN</td>\n",
       "      <td>NaN</td>\n",
       "      <td>NaN</td>\n",
       "      <td>NaN</td>\n",
       "      <td>NaN</td>\n",
       "    </tr>\n",
       "  </tbody>\n",
       "</table>\n",
       "</div>"
      ],
      "text/plain": [
       "   Unnamed: 0                                            region'  \\\n",
       "0         NaN                                              South   \n",
       "1         NaN                                               West   \n",
       "2         NaN                                            Midwest   \n",
       "3         NaN                                          Northeast   \n",
       "4         NaN                                              Total   \n",
       "5         NaN                                                NaN   \n",
       "6         NaN  Comments (Column D):The 'Low_spender' column r...   \n",
       "7         NaN                                                NaN   \n",
       "8         NaN  Comments (Columns C&E): Both the 'High-Spender...   \n",
       "\n",
       "   High_spender  Low_spender  Total_spender  % of spender by 'region'  \\\n",
       "0      209691.0   10582194.0     10791885.0                  0.333033   \n",
       "1      160354.0    8132559.0      8292913.0                  0.255916   \n",
       "2      155975.0    7441350.0      7597325.0                  0.234450   \n",
       "3      108225.0    5614511.0      5722736.0                  0.176601   \n",
       "4      634245.0   31770614.0     32404859.0                  1.000000   \n",
       "5           NaN          NaN            NaN                       NaN   \n",
       "6           NaN          NaN            NaN                       NaN   \n",
       "7           NaN          NaN            NaN                       NaN   \n",
       "8           NaN          NaN            NaN                       NaN   \n",
       "\n",
       "   % of High_spender by 'region'  % of Low_spender by 'region'  \\\n",
       "0                       0.019430                      0.980570   \n",
       "1                       0.019336                      0.980664   \n",
       "2                       0.020530                      0.979470   \n",
       "3                       0.018911                      0.981089   \n",
       "4                            NaN                           NaN   \n",
       "5                            NaN                           NaN   \n",
       "6                            NaN                           NaN   \n",
       "7                            NaN                           NaN   \n",
       "8                            NaN                           NaN   \n",
       "\n",
       "   % of 'region' in High_spender  % of 'region' in Low_spender  \n",
       "0                       0.330615                      0.333081  \n",
       "1                       0.252827                      0.255977  \n",
       "2                       0.245922                      0.234221  \n",
       "3                       0.170636                      0.176720  \n",
       "4                       1.000000                      1.000000  \n",
       "5                            NaN                           NaN  \n",
       "6                            NaN                           NaN  \n",
       "7                            NaN                           NaN  \n",
       "8                            NaN                           NaN  "
      ]
     },
     "execution_count": 18,
     "metadata": {},
     "output_type": "execute_result"
    }
   ],
   "source": [
    "df_spendhab_reg"
   ]
  },
  {
   "cell_type": "code",
   "execution_count": 19,
   "id": "9e98ce6e",
   "metadata": {},
   "outputs": [],
   "source": [
    "#### Drop the 'Unnamed: 0' column\n",
    "df_spendhab_reg.drop('Unnamed: 0', axis=1, inplace=True)"
   ]
  },
  {
   "cell_type": "code",
   "execution_count": 20,
   "id": "3aa78bad",
   "metadata": {},
   "outputs": [],
   "source": [
    "#### Drop rows 5 to 8\n",
    "df_spendhab_reg.drop(df_spendhab_reg.index[5:9], inplace=True)"
   ]
  },
  {
   "cell_type": "code",
   "execution_count": 21,
   "id": "600de324",
   "metadata": {},
   "outputs": [
    {
     "data": {
      "text/html": [
       "<div>\n",
       "<style scoped>\n",
       "    .dataframe tbody tr th:only-of-type {\n",
       "        vertical-align: middle;\n",
       "    }\n",
       "\n",
       "    .dataframe tbody tr th {\n",
       "        vertical-align: top;\n",
       "    }\n",
       "\n",
       "    .dataframe thead th {\n",
       "        text-align: right;\n",
       "    }\n",
       "</style>\n",
       "<table border=\"1\" class=\"dataframe\">\n",
       "  <thead>\n",
       "    <tr style=\"text-align: right;\">\n",
       "      <th></th>\n",
       "      <th>region'</th>\n",
       "      <th>High_spender</th>\n",
       "      <th>Low_spender</th>\n",
       "      <th>Total_spender</th>\n",
       "      <th>% of spender by 'region'</th>\n",
       "      <th>% of High_spender by 'region'</th>\n",
       "      <th>% of Low_spender by 'region'</th>\n",
       "      <th>% of 'region' in High_spender</th>\n",
       "      <th>% of 'region' in Low_spender</th>\n",
       "    </tr>\n",
       "  </thead>\n",
       "  <tbody>\n",
       "    <tr>\n",
       "      <th>0</th>\n",
       "      <td>South</td>\n",
       "      <td>209691.0</td>\n",
       "      <td>10582194.0</td>\n",
       "      <td>10791885.0</td>\n",
       "      <td>0.333033</td>\n",
       "      <td>0.019430</td>\n",
       "      <td>0.980570</td>\n",
       "      <td>0.330615</td>\n",
       "      <td>0.333081</td>\n",
       "    </tr>\n",
       "    <tr>\n",
       "      <th>1</th>\n",
       "      <td>West</td>\n",
       "      <td>160354.0</td>\n",
       "      <td>8132559.0</td>\n",
       "      <td>8292913.0</td>\n",
       "      <td>0.255916</td>\n",
       "      <td>0.019336</td>\n",
       "      <td>0.980664</td>\n",
       "      <td>0.252827</td>\n",
       "      <td>0.255977</td>\n",
       "    </tr>\n",
       "    <tr>\n",
       "      <th>2</th>\n",
       "      <td>Midwest</td>\n",
       "      <td>155975.0</td>\n",
       "      <td>7441350.0</td>\n",
       "      <td>7597325.0</td>\n",
       "      <td>0.234450</td>\n",
       "      <td>0.020530</td>\n",
       "      <td>0.979470</td>\n",
       "      <td>0.245922</td>\n",
       "      <td>0.234221</td>\n",
       "    </tr>\n",
       "    <tr>\n",
       "      <th>3</th>\n",
       "      <td>Northeast</td>\n",
       "      <td>108225.0</td>\n",
       "      <td>5614511.0</td>\n",
       "      <td>5722736.0</td>\n",
       "      <td>0.176601</td>\n",
       "      <td>0.018911</td>\n",
       "      <td>0.981089</td>\n",
       "      <td>0.170636</td>\n",
       "      <td>0.176720</td>\n",
       "    </tr>\n",
       "    <tr>\n",
       "      <th>4</th>\n",
       "      <td>Total</td>\n",
       "      <td>634245.0</td>\n",
       "      <td>31770614.0</td>\n",
       "      <td>32404859.0</td>\n",
       "      <td>1.000000</td>\n",
       "      <td>NaN</td>\n",
       "      <td>NaN</td>\n",
       "      <td>1.000000</td>\n",
       "      <td>1.000000</td>\n",
       "    </tr>\n",
       "  </tbody>\n",
       "</table>\n",
       "</div>"
      ],
      "text/plain": [
       "     region'  High_spender  Low_spender  Total_spender  \\\n",
       "0      South      209691.0   10582194.0     10791885.0   \n",
       "1       West      160354.0    8132559.0      8292913.0   \n",
       "2    Midwest      155975.0    7441350.0      7597325.0   \n",
       "3  Northeast      108225.0    5614511.0      5722736.0   \n",
       "4      Total      634245.0   31770614.0     32404859.0   \n",
       "\n",
       "   % of spender by 'region'  % of High_spender by 'region'  \\\n",
       "0                  0.333033                       0.019430   \n",
       "1                  0.255916                       0.019336   \n",
       "2                  0.234450                       0.020530   \n",
       "3                  0.176601                       0.018911   \n",
       "4                  1.000000                            NaN   \n",
       "\n",
       "   % of Low_spender by 'region'  % of 'region' in High_spender  \\\n",
       "0                      0.980570                       0.330615   \n",
       "1                      0.980664                       0.252827   \n",
       "2                      0.979470                       0.245922   \n",
       "3                      0.981089                       0.170636   \n",
       "4                           NaN                       1.000000   \n",
       "\n",
       "   % of 'region' in Low_spender  \n",
       "0                      0.333081  \n",
       "1                      0.255977  \n",
       "2                      0.234221  \n",
       "3                      0.176720  \n",
       "4                      1.000000  "
      ]
     },
     "execution_count": 21,
     "metadata": {},
     "output_type": "execute_result"
    }
   ],
   "source": [
    "df_spendhab_reg"
   ]
  },
  {
   "cell_type": "code",
   "execution_count": 22,
   "id": "aecb4c4d",
   "metadata": {},
   "outputs": [],
   "source": [
    "#### Set the number format to include commas as thousands separators for the 'High_spender','Low_spender' and 'Total_spender' columns\n",
    "pd.options.display.float_format = '{:,.0f}'.format"
   ]
  },
  {
   "cell_type": "code",
   "execution_count": 23,
   "id": "14ccfc7f",
   "metadata": {},
   "outputs": [],
   "source": [
    "#### Format specific columns as percentages with two decimal places\n",
    "columns_to_format_as_percentage = ['% of spender by \\'region\\'', \n",
    "                                   '% of High_spender by \\'region\\'', \n",
    "                                   '% of Low_spender by \\'region\\'', \n",
    "                                   '% of \\'region\\' in High_spender', \n",
    "                                   '% of \\'region\\' in Low_spender']"
   ]
  },
  {
   "cell_type": "code",
   "execution_count": 24,
   "id": "6145ab3d",
   "metadata": {},
   "outputs": [],
   "source": [
    "for column in columns_to_format_as_percentage:\n",
    "    df_spendhab_reg[column] = df_spendhab_reg[column].apply(lambda x: '{:.2%}'.format(x))"
   ]
  },
  {
   "cell_type": "code",
   "execution_count": 25,
   "id": "ef8eafb8",
   "metadata": {},
   "outputs": [],
   "source": [
    "#### Format specific columns with commas as thousands separators\n",
    "columns_to_format_with_commas = ['High_spender', 'Low_spender', 'Total_spender']\n",
    "for column in columns_to_format_with_commas:\n",
    "    df_spendhab_reg[column] = df_spendhab_reg[column].apply(lambda x: '{:,.0f}'.format(x))"
   ]
  },
  {
   "cell_type": "code",
   "execution_count": 26,
   "id": "e8557a21",
   "metadata": {},
   "outputs": [
    {
     "data": {
      "text/html": [
       "<div>\n",
       "<style scoped>\n",
       "    .dataframe tbody tr th:only-of-type {\n",
       "        vertical-align: middle;\n",
       "    }\n",
       "\n",
       "    .dataframe tbody tr th {\n",
       "        vertical-align: top;\n",
       "    }\n",
       "\n",
       "    .dataframe thead th {\n",
       "        text-align: right;\n",
       "    }\n",
       "</style>\n",
       "<table border=\"1\" class=\"dataframe\">\n",
       "  <thead>\n",
       "    <tr style=\"text-align: right;\">\n",
       "      <th></th>\n",
       "      <th>region'</th>\n",
       "      <th>High_spender</th>\n",
       "      <th>Low_spender</th>\n",
       "      <th>Total_spender</th>\n",
       "      <th>% of spender by 'region'</th>\n",
       "      <th>% of High_spender by 'region'</th>\n",
       "      <th>% of Low_spender by 'region'</th>\n",
       "      <th>% of 'region' in High_spender</th>\n",
       "      <th>% of 'region' in Low_spender</th>\n",
       "    </tr>\n",
       "  </thead>\n",
       "  <tbody>\n",
       "    <tr>\n",
       "      <th>0</th>\n",
       "      <td>South</td>\n",
       "      <td>209,691</td>\n",
       "      <td>10,582,194</td>\n",
       "      <td>10,791,885</td>\n",
       "      <td>33.30%</td>\n",
       "      <td>1.94%</td>\n",
       "      <td>98.06%</td>\n",
       "      <td>33.06%</td>\n",
       "      <td>33.31%</td>\n",
       "    </tr>\n",
       "    <tr>\n",
       "      <th>1</th>\n",
       "      <td>West</td>\n",
       "      <td>160,354</td>\n",
       "      <td>8,132,559</td>\n",
       "      <td>8,292,913</td>\n",
       "      <td>25.59%</td>\n",
       "      <td>1.93%</td>\n",
       "      <td>98.07%</td>\n",
       "      <td>25.28%</td>\n",
       "      <td>25.60%</td>\n",
       "    </tr>\n",
       "    <tr>\n",
       "      <th>2</th>\n",
       "      <td>Midwest</td>\n",
       "      <td>155,975</td>\n",
       "      <td>7,441,350</td>\n",
       "      <td>7,597,325</td>\n",
       "      <td>23.45%</td>\n",
       "      <td>2.05%</td>\n",
       "      <td>97.95%</td>\n",
       "      <td>24.59%</td>\n",
       "      <td>23.42%</td>\n",
       "    </tr>\n",
       "    <tr>\n",
       "      <th>3</th>\n",
       "      <td>Northeast</td>\n",
       "      <td>108,225</td>\n",
       "      <td>5,614,511</td>\n",
       "      <td>5,722,736</td>\n",
       "      <td>17.66%</td>\n",
       "      <td>1.89%</td>\n",
       "      <td>98.11%</td>\n",
       "      <td>17.06%</td>\n",
       "      <td>17.67%</td>\n",
       "    </tr>\n",
       "    <tr>\n",
       "      <th>4</th>\n",
       "      <td>Total</td>\n",
       "      <td>634,245</td>\n",
       "      <td>31,770,614</td>\n",
       "      <td>32,404,859</td>\n",
       "      <td>100.00%</td>\n",
       "      <td>nan%</td>\n",
       "      <td>nan%</td>\n",
       "      <td>100.00%</td>\n",
       "      <td>100.00%</td>\n",
       "    </tr>\n",
       "  </tbody>\n",
       "</table>\n",
       "</div>"
      ],
      "text/plain": [
       "     region' High_spender Low_spender Total_spender % of spender by 'region'  \\\n",
       "0      South      209,691  10,582,194    10,791,885                   33.30%   \n",
       "1       West      160,354   8,132,559     8,292,913                   25.59%   \n",
       "2    Midwest      155,975   7,441,350     7,597,325                   23.45%   \n",
       "3  Northeast      108,225   5,614,511     5,722,736                   17.66%   \n",
       "4      Total      634,245  31,770,614    32,404,859                  100.00%   \n",
       "\n",
       "  % of High_spender by 'region' % of Low_spender by 'region'  \\\n",
       "0                         1.94%                       98.06%   \n",
       "1                         1.93%                       98.07%   \n",
       "2                         2.05%                       97.95%   \n",
       "3                         1.89%                       98.11%   \n",
       "4                          nan%                         nan%   \n",
       "\n",
       "  % of 'region' in High_spender % of 'region' in Low_spender  \n",
       "0                        33.06%                       33.31%  \n",
       "1                        25.28%                       25.60%  \n",
       "2                        24.59%                       23.42%  \n",
       "3                        17.06%                       17.67%  \n",
       "4                       100.00%                      100.00%  "
      ]
     },
     "execution_count": 26,
     "metadata": {},
     "output_type": "execute_result"
    }
   ],
   "source": [
    "df_spendhab_reg"
   ]
  },
  {
   "cell_type": "code",
   "execution_count": 27,
   "id": "191f2df1",
   "metadata": {},
   "outputs": [],
   "source": [
    "#### Rename the column 'region'' to 'region'\n",
    "df_spendhab_reg.rename(columns={\"region'\": \"region\"}, inplace=True)"
   ]
  },
  {
   "cell_type": "code",
   "execution_count": 28,
   "id": "9a9c8920",
   "metadata": {},
   "outputs": [
    {
     "data": {
      "text/html": [
       "<div>\n",
       "<style scoped>\n",
       "    .dataframe tbody tr th:only-of-type {\n",
       "        vertical-align: middle;\n",
       "    }\n",
       "\n",
       "    .dataframe tbody tr th {\n",
       "        vertical-align: top;\n",
       "    }\n",
       "\n",
       "    .dataframe thead th {\n",
       "        text-align: right;\n",
       "    }\n",
       "</style>\n",
       "<table border=\"1\" class=\"dataframe\">\n",
       "  <thead>\n",
       "    <tr style=\"text-align: right;\">\n",
       "      <th></th>\n",
       "      <th>region</th>\n",
       "      <th>High_spender</th>\n",
       "      <th>Low_spender</th>\n",
       "      <th>Total_spender</th>\n",
       "      <th>% of spender by 'region'</th>\n",
       "      <th>% of High_spender by 'region'</th>\n",
       "      <th>% of Low_spender by 'region'</th>\n",
       "      <th>% of 'region' in High_spender</th>\n",
       "      <th>% of 'region' in Low_spender</th>\n",
       "    </tr>\n",
       "  </thead>\n",
       "  <tbody>\n",
       "    <tr>\n",
       "      <th>0</th>\n",
       "      <td>South</td>\n",
       "      <td>209,691</td>\n",
       "      <td>10,582,194</td>\n",
       "      <td>10,791,885</td>\n",
       "      <td>33.30%</td>\n",
       "      <td>1.94%</td>\n",
       "      <td>98.06%</td>\n",
       "      <td>33.06%</td>\n",
       "      <td>33.31%</td>\n",
       "    </tr>\n",
       "    <tr>\n",
       "      <th>1</th>\n",
       "      <td>West</td>\n",
       "      <td>160,354</td>\n",
       "      <td>8,132,559</td>\n",
       "      <td>8,292,913</td>\n",
       "      <td>25.59%</td>\n",
       "      <td>1.93%</td>\n",
       "      <td>98.07%</td>\n",
       "      <td>25.28%</td>\n",
       "      <td>25.60%</td>\n",
       "    </tr>\n",
       "    <tr>\n",
       "      <th>2</th>\n",
       "      <td>Midwest</td>\n",
       "      <td>155,975</td>\n",
       "      <td>7,441,350</td>\n",
       "      <td>7,597,325</td>\n",
       "      <td>23.45%</td>\n",
       "      <td>2.05%</td>\n",
       "      <td>97.95%</td>\n",
       "      <td>24.59%</td>\n",
       "      <td>23.42%</td>\n",
       "    </tr>\n",
       "    <tr>\n",
       "      <th>3</th>\n",
       "      <td>Northeast</td>\n",
       "      <td>108,225</td>\n",
       "      <td>5,614,511</td>\n",
       "      <td>5,722,736</td>\n",
       "      <td>17.66%</td>\n",
       "      <td>1.89%</td>\n",
       "      <td>98.11%</td>\n",
       "      <td>17.06%</td>\n",
       "      <td>17.67%</td>\n",
       "    </tr>\n",
       "    <tr>\n",
       "      <th>4</th>\n",
       "      <td>Total</td>\n",
       "      <td>634,245</td>\n",
       "      <td>31,770,614</td>\n",
       "      <td>32,404,859</td>\n",
       "      <td>100.00%</td>\n",
       "      <td>nan%</td>\n",
       "      <td>nan%</td>\n",
       "      <td>100.00%</td>\n",
       "      <td>100.00%</td>\n",
       "    </tr>\n",
       "  </tbody>\n",
       "</table>\n",
       "</div>"
      ],
      "text/plain": [
       "      region High_spender Low_spender Total_spender % of spender by 'region'  \\\n",
       "0      South      209,691  10,582,194    10,791,885                   33.30%   \n",
       "1       West      160,354   8,132,559     8,292,913                   25.59%   \n",
       "2    Midwest      155,975   7,441,350     7,597,325                   23.45%   \n",
       "3  Northeast      108,225   5,614,511     5,722,736                   17.66%   \n",
       "4      Total      634,245  31,770,614    32,404,859                  100.00%   \n",
       "\n",
       "  % of High_spender by 'region' % of Low_spender by 'region'  \\\n",
       "0                         1.94%                       98.06%   \n",
       "1                         1.93%                       98.07%   \n",
       "2                         2.05%                       97.95%   \n",
       "3                         1.89%                       98.11%   \n",
       "4                          nan%                         nan%   \n",
       "\n",
       "  % of 'region' in High_spender % of 'region' in Low_spender  \n",
       "0                        33.06%                       33.31%  \n",
       "1                        25.28%                       25.60%  \n",
       "2                        24.59%                       23.42%  \n",
       "3                        17.06%                       17.67%  \n",
       "4                       100.00%                      100.00%  "
      ]
     },
     "execution_count": 28,
     "metadata": {},
     "output_type": "execute_result"
    }
   ],
   "source": [
    "df_spendhab_reg"
   ]
  },
  {
   "cell_type": "markdown",
   "id": "123e1dd0",
   "metadata": {},
   "source": [
    "### Comments: (1) The 'Low_spender' column reflects the higher portion of spenders in each region. Additionally, the highest amount of spenders for this column is in the South. (2) Both the 'High-Spender' and the 'Total_spender columns have the highest concentrations of spenders in the 'South' region of the U.S."
   ]
  },
  {
   "cell_type": "markdown",
   "id": "24f48105",
   "metadata": {},
   "source": [
    "# 04.  Create an exclusion flag for low-activity customers (customers with less than 5 orders) and exclude them from the data"
   ]
  },
  {
   "cell_type": "code",
   "execution_count": 29,
   "id": "fda89640",
   "metadata": {},
   "outputs": [],
   "source": [
    "#### Create the 'exclusion_flag' column and initialize it as 'unknown'\n",
    "df_task2['exclusion_flag'] = 'unknown'"
   ]
  },
  {
   "cell_type": "code",
   "execution_count": 30,
   "id": "39c43a2f",
   "metadata": {},
   "outputs": [],
   "source": [
    "#### Update the values in the 'exclusion_flag' column based on conditions\n",
    "df_task2.loc[df_task2['max_order'] >= 5, 'exclusion_flag'] = 'Include'\n",
    "df_task2.loc[df_task2['max_order'] < 5, 'exclusion_flag'] = 'Exclude'"
   ]
  },
  {
   "cell_type": "code",
   "execution_count": 31,
   "id": "20c81374",
   "metadata": {},
   "outputs": [
    {
     "data": {
      "text/plain": [
       "exclusion_flag\n",
       "Include    30964564\n",
       "Exclude     1440295\n",
       "Name: count, dtype: int64"
      ]
     },
     "execution_count": 31,
     "metadata": {},
     "output_type": "execute_result"
    }
   ],
   "source": [
    "#### Check the counts of each flag\n",
    "df_task2['exclusion_flag'].value_counts(dropna = False)"
   ]
  },
  {
   "cell_type": "code",
   "execution_count": 32,
   "id": "dad0f3e7",
   "metadata": {},
   "outputs": [
    {
     "data": {
      "text/plain": [
       "32404859"
      ]
     },
     "execution_count": 32,
     "metadata": {},
     "output_type": "execute_result"
    }
   ],
   "source": [
    "#### Ensure that each record received a value assignment of either 'Include' or 'Exclude' (flag total should equal 32404859 [number of rows in df])\n",
    "30964564 + 1440295"
   ]
  },
  {
   "cell_type": "markdown",
   "id": "07aad5f8",
   "metadata": {},
   "source": [
    "## Check the Output"
   ]
  },
  {
   "cell_type": "code",
   "execution_count": 33,
   "id": "10b18fd2",
   "metadata": {},
   "outputs": [
    {
     "data": {
      "text/html": [
       "<div>\n",
       "<style scoped>\n",
       "    .dataframe tbody tr th:only-of-type {\n",
       "        vertical-align: middle;\n",
       "    }\n",
       "\n",
       "    .dataframe tbody tr th {\n",
       "        vertical-align: top;\n",
       "    }\n",
       "\n",
       "    .dataframe thead th {\n",
       "        text-align: right;\n",
       "    }\n",
       "</style>\n",
       "<table border=\"1\" class=\"dataframe\">\n",
       "  <thead>\n",
       "    <tr style=\"text-align: right;\">\n",
       "      <th></th>\n",
       "      <th>max_order</th>\n",
       "      <th>exclusion_flag</th>\n",
       "    </tr>\n",
       "    <tr>\n",
       "      <th>user_id</th>\n",
       "      <th></th>\n",
       "      <th></th>\n",
       "    </tr>\n",
       "  </thead>\n",
       "  <tbody>\n",
       "    <tr>\n",
       "      <th>115</th>\n",
       "      <td>12</td>\n",
       "      <td>Include</td>\n",
       "    </tr>\n",
       "    <tr>\n",
       "      <th>138</th>\n",
       "      <td>32</td>\n",
       "      <td>Include</td>\n",
       "    </tr>\n",
       "    <tr>\n",
       "      <th>138</th>\n",
       "      <td>32</td>\n",
       "      <td>Include</td>\n",
       "    </tr>\n",
       "    <tr>\n",
       "      <th>225</th>\n",
       "      <td>11</td>\n",
       "      <td>Include</td>\n",
       "    </tr>\n",
       "    <tr>\n",
       "      <th>295</th>\n",
       "      <td>23</td>\n",
       "      <td>Include</td>\n",
       "    </tr>\n",
       "  </tbody>\n",
       "</table>\n",
       "</div>"
      ],
      "text/plain": [
       "         max_order exclusion_flag\n",
       "user_id                          \n",
       "115             12        Include\n",
       "138             32        Include\n",
       "138             32        Include\n",
       "225             11        Include\n",
       "295             23        Include"
      ]
     },
     "execution_count": 33,
     "metadata": {},
     "output_type": "execute_result"
    }
   ],
   "source": [
    "df_task2[['max_order', 'exclusion_flag']].head()"
   ]
  },
  {
   "cell_type": "code",
   "execution_count": 34,
   "id": "3e97bc1d",
   "metadata": {},
   "outputs": [
    {
     "data": {
      "text/html": [
       "<div>\n",
       "<style scoped>\n",
       "    .dataframe tbody tr th:only-of-type {\n",
       "        vertical-align: middle;\n",
       "    }\n",
       "\n",
       "    .dataframe tbody tr th {\n",
       "        vertical-align: top;\n",
       "    }\n",
       "\n",
       "    .dataframe thead th {\n",
       "        text-align: right;\n",
       "    }\n",
       "</style>\n",
       "<table border=\"1\" class=\"dataframe\">\n",
       "  <thead>\n",
       "    <tr style=\"text-align: right;\">\n",
       "      <th></th>\n",
       "      <th>max_order</th>\n",
       "      <th>exclusion_flag</th>\n",
       "    </tr>\n",
       "    <tr>\n",
       "      <th>user_id</th>\n",
       "      <th></th>\n",
       "      <th></th>\n",
       "    </tr>\n",
       "  </thead>\n",
       "  <tbody>\n",
       "    <tr>\n",
       "      <th>206202</th>\n",
       "      <td>22</td>\n",
       "      <td>Include</td>\n",
       "    </tr>\n",
       "    <tr>\n",
       "      <th>206202</th>\n",
       "      <td>22</td>\n",
       "      <td>Include</td>\n",
       "    </tr>\n",
       "    <tr>\n",
       "      <th>206202</th>\n",
       "      <td>22</td>\n",
       "      <td>Include</td>\n",
       "    </tr>\n",
       "    <tr>\n",
       "      <th>206202</th>\n",
       "      <td>22</td>\n",
       "      <td>Include</td>\n",
       "    </tr>\n",
       "    <tr>\n",
       "      <th>206202</th>\n",
       "      <td>22</td>\n",
       "      <td>Include</td>\n",
       "    </tr>\n",
       "  </tbody>\n",
       "</table>\n",
       "</div>"
      ],
      "text/plain": [
       "         max_order exclusion_flag\n",
       "user_id                          \n",
       "206202          22        Include\n",
       "206202          22        Include\n",
       "206202          22        Include\n",
       "206202          22        Include\n",
       "206202          22        Include"
      ]
     },
     "execution_count": 34,
     "metadata": {},
     "output_type": "execute_result"
    }
   ],
   "source": [
    "df_task2[['max_order', 'exclusion_flag']].tail()"
   ]
  },
  {
   "cell_type": "markdown",
   "id": "ac42bff3",
   "metadata": {},
   "source": [
    "## Create subset dataframe of all rows to exclude (customers with 'max_orders' < 5 times)"
   ]
  },
  {
   "cell_type": "code",
   "execution_count": 35,
   "id": "3e3021b9",
   "metadata": {},
   "outputs": [],
   "source": [
    "df_task2_exclude = df_task2[df_task2['exclusion_flag'] == 'Exclude']"
   ]
  },
  {
   "cell_type": "code",
   "execution_count": 36,
   "id": "b27dbdeb",
   "metadata": {},
   "outputs": [
    {
     "data": {
      "text/plain": [
       "(1440295, 29)"
      ]
     },
     "execution_count": 36,
     "metadata": {},
     "output_type": "execute_result"
    }
   ],
   "source": [
    "df_task2_exclude.shape"
   ]
  },
  {
   "cell_type": "markdown",
   "id": "8fdba704",
   "metadata": {},
   "source": [
    "## Export the 'df_task2_exclude' for records as pkl file to Prepared Data folder"
   ]
  },
  {
   "cell_type": "code",
   "execution_count": 37,
   "id": "031bd538",
   "metadata": {},
   "outputs": [],
   "source": [
    "#### Define path\n",
    "path = r'C:\\Users\\cemel\\Documents\\30-12-2023 Instacart Basket Analysis (Achievement 4)'"
   ]
  },
  {
   "cell_type": "code",
   "execution_count": 38,
   "id": "028fdfd0",
   "metadata": {},
   "outputs": [],
   "source": [
    "#### Export 'df_task2_exclude'\n",
    "df_task2_exclude.to_pickle(os.path.join(path, '02 Data', 'Prepared Data', 'ordprod_pyviz_exclusions.pkl'))"
   ]
  },
  {
   "cell_type": "markdown",
   "id": "bc7363f1",
   "metadata": {},
   "source": [
    "## Remove exclusions from 'df_task2' dataframe (i.e. Create new dataframe with only \"Include\" rows)"
   ]
  },
  {
   "cell_type": "code",
   "execution_count": 39,
   "id": "90fa19d0",
   "metadata": {},
   "outputs": [],
   "source": [
    "df_task2_include = df_task2[df_task2['exclusion_flag'] == 'Include']"
   ]
  },
  {
   "cell_type": "code",
   "execution_count": 40,
   "id": "0b61e22c",
   "metadata": {},
   "outputs": [
    {
     "data": {
      "text/plain": [
       "(30964564, 29)"
      ]
     },
     "execution_count": 40,
     "metadata": {},
     "output_type": "execute_result"
    }
   ],
   "source": [
    "df_task2_include.shape"
   ]
  },
  {
   "cell_type": "markdown",
   "id": "ea0836f9",
   "metadata": {},
   "source": [
    "### Comments: Size of 'df_task2_exclude' + Size of 'df_task2_include' = Count of 'exclusion_flag'. Therefore, separation of all records into one of the two aforementioned dataframes has been a success.  "
   ]
  },
  {
   "cell_type": "code",
   "execution_count": 41,
   "id": "6d69ef45",
   "metadata": {},
   "outputs": [],
   "source": [
    "# Export 'df_task2_include' as pickle file to Prepared Data folder\n",
    "df_task2_include.to_pickle(os.path.join(path, '02 Data', 'Prepared Data', 'ordprod_pyviz_inclusions.pkl'))"
   ]
  },
  {
   "cell_type": "markdown",
   "id": "a3d08fc1",
   "metadata": {},
   "source": [
    "# End of Script. See 'Task for Exercise 4.10 - Part 2' for continuation. "
   ]
  }
 ],
 "metadata": {
  "kernelspec": {
   "display_name": "Python 3 (ipykernel)",
   "language": "python",
   "name": "python3"
  },
  "language_info": {
   "codemirror_mode": {
    "name": "ipython",
    "version": 3
   },
   "file_extension": ".py",
   "mimetype": "text/x-python",
   "name": "python",
   "nbconvert_exporter": "python",
   "pygments_lexer": "ipython3",
   "version": "3.11.5"
  }
 },
 "nbformat": 4,
 "nbformat_minor": 5
}
