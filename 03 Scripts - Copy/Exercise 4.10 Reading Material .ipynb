{
 "cells": [
  {
   "cell_type": "markdown",
   "id": "88b9cbd1",
   "metadata": {},
   "source": [
    "# 01. Importing Libraries & Data"
   ]
  },
  {
   "cell_type": "code",
   "execution_count": 1,
   "id": "25d23245",
   "metadata": {},
   "outputs": [],
   "source": [
    "#### Import libraries\n",
    "import pandas as pd\n",
    "import numpy as np\n",
    "import os\n",
    "import matplotlib.pyplot as plt\n",
    "import seaborn as sns\n",
    "import scipy"
   ]
  },
  {
   "cell_type": "code",
   "execution_count": 2,
   "id": "2f4cbc98",
   "metadata": {},
   "outputs": [],
   "source": [
    "#### Define path\n",
    "pickle_file_path = os.path.join(\n",
    "    r'C:\\Users\\cemel\\Documents\\30-12-2023 Instacart Basket Analysis (Achievement 4)',\n",
    "    '02 Data', 'Prepared Data', 'ords_prods_agg_pythonviz.pkl'\n",
    ")"
   ]
  },
  {
   "cell_type": "code",
   "execution_count": 3,
   "id": "7c5e9074",
   "metadata": {},
   "outputs": [],
   "source": [
    "#### Load the pickle file into Pandas DataFrame\n",
    "df_readmat = pd.read_pickle(pickle_file_path)"
   ]
  },
  {
   "cell_type": "markdown",
   "id": "fb6020a7",
   "metadata": {},
   "source": [
    "## Check the Output"
   ]
  },
  {
   "cell_type": "code",
   "execution_count": 4,
   "id": "8d57653a",
   "metadata": {},
   "outputs": [
    {
     "data": {
      "text/html": [
       "<div>\n",
       "<style scoped>\n",
       "    .dataframe tbody tr th:only-of-type {\n",
       "        vertical-align: middle;\n",
       "    }\n",
       "\n",
       "    .dataframe tbody tr th {\n",
       "        vertical-align: top;\n",
       "    }\n",
       "\n",
       "    .dataframe thead th {\n",
       "        text-align: right;\n",
       "    }\n",
       "</style>\n",
       "<table border=\"1\" class=\"dataframe\">\n",
       "  <thead>\n",
       "    <tr style=\"text-align: right;\">\n",
       "      <th></th>\n",
       "      <th>product_id</th>\n",
       "      <th>product_name</th>\n",
       "      <th>aisle_id</th>\n",
       "      <th>department_id</th>\n",
       "      <th>prices</th>\n",
       "      <th>order_id</th>\n",
       "      <th>order_number</th>\n",
       "      <th>orders_day_of_week</th>\n",
       "      <th>time_of_day</th>\n",
       "      <th>days_since_prior_order</th>\n",
       "      <th>...</th>\n",
       "      <th>mean_order_frequency</th>\n",
       "      <th>order_frequency_flag</th>\n",
       "      <th>first_name</th>\n",
       "      <th>surname</th>\n",
       "      <th>gender</th>\n",
       "      <th>state</th>\n",
       "      <th>age</th>\n",
       "      <th>dependants</th>\n",
       "      <th>family_status</th>\n",
       "      <th>income</th>\n",
       "    </tr>\n",
       "    <tr>\n",
       "      <th>user_id</th>\n",
       "      <th></th>\n",
       "      <th></th>\n",
       "      <th></th>\n",
       "      <th></th>\n",
       "      <th></th>\n",
       "      <th></th>\n",
       "      <th></th>\n",
       "      <th></th>\n",
       "      <th></th>\n",
       "      <th></th>\n",
       "      <th></th>\n",
       "      <th></th>\n",
       "      <th></th>\n",
       "      <th></th>\n",
       "      <th></th>\n",
       "      <th></th>\n",
       "      <th></th>\n",
       "      <th></th>\n",
       "      <th></th>\n",
       "      <th></th>\n",
       "      <th></th>\n",
       "    </tr>\n",
       "  </thead>\n",
       "  <tbody>\n",
       "    <tr>\n",
       "      <th>115</th>\n",
       "      <td>10</td>\n",
       "      <td>Sparkling Orange Juice &amp; Prickly Pear Beverage</td>\n",
       "      <td>115</td>\n",
       "      <td>7</td>\n",
       "      <td>8.4</td>\n",
       "      <td>3278419</td>\n",
       "      <td>9</td>\n",
       "      <td>4</td>\n",
       "      <td>18</td>\n",
       "      <td>4.0</td>\n",
       "      <td>...</td>\n",
       "      <td>10.0</td>\n",
       "      <td>Frequent Customer</td>\n",
       "      <td>Carol</td>\n",
       "      <td>Soto</td>\n",
       "      <td>Female</td>\n",
       "      <td>Idaho</td>\n",
       "      <td>77</td>\n",
       "      <td>3</td>\n",
       "      <td>married</td>\n",
       "      <td>98736</td>\n",
       "    </tr>\n",
       "    <tr>\n",
       "      <th>138</th>\n",
       "      <td>1</td>\n",
       "      <td>Chocolate Sandwich Cookies</td>\n",
       "      <td>61</td>\n",
       "      <td>19</td>\n",
       "      <td>5.8</td>\n",
       "      <td>3139998</td>\n",
       "      <td>28</td>\n",
       "      <td>6</td>\n",
       "      <td>11</td>\n",
       "      <td>3.0</td>\n",
       "      <td>...</td>\n",
       "      <td>8.0</td>\n",
       "      <td>Frequent Customer</td>\n",
       "      <td>Charles</td>\n",
       "      <td>Cox</td>\n",
       "      <td>Male</td>\n",
       "      <td>Minnesota</td>\n",
       "      <td>81</td>\n",
       "      <td>1</td>\n",
       "      <td>married</td>\n",
       "      <td>49620</td>\n",
       "    </tr>\n",
       "    <tr>\n",
       "      <th>138</th>\n",
       "      <td>1</td>\n",
       "      <td>Chocolate Sandwich Cookies</td>\n",
       "      <td>61</td>\n",
       "      <td>19</td>\n",
       "      <td>5.8</td>\n",
       "      <td>1977647</td>\n",
       "      <td>30</td>\n",
       "      <td>6</td>\n",
       "      <td>17</td>\n",
       "      <td>20.0</td>\n",
       "      <td>...</td>\n",
       "      <td>8.0</td>\n",
       "      <td>Frequent Customer</td>\n",
       "      <td>Charles</td>\n",
       "      <td>Cox</td>\n",
       "      <td>Male</td>\n",
       "      <td>Minnesota</td>\n",
       "      <td>81</td>\n",
       "      <td>1</td>\n",
       "      <td>married</td>\n",
       "      <td>49620</td>\n",
       "    </tr>\n",
       "    <tr>\n",
       "      <th>225</th>\n",
       "      <td>9</td>\n",
       "      <td>Light Strawberry Blueberry Yogurt</td>\n",
       "      <td>120</td>\n",
       "      <td>16</td>\n",
       "      <td>7.0</td>\n",
       "      <td>169443</td>\n",
       "      <td>11</td>\n",
       "      <td>4</td>\n",
       "      <td>10</td>\n",
       "      <td>6.0</td>\n",
       "      <td>...</td>\n",
       "      <td>15.0</td>\n",
       "      <td>Regular customer</td>\n",
       "      <td>Elizabeth</td>\n",
       "      <td>Tapia</td>\n",
       "      <td>Female</td>\n",
       "      <td>Montana</td>\n",
       "      <td>76</td>\n",
       "      <td>3</td>\n",
       "      <td>married</td>\n",
       "      <td>69724</td>\n",
       "    </tr>\n",
       "    <tr>\n",
       "      <th>295</th>\n",
       "      <td>10</td>\n",
       "      <td>Sparkling Orange Juice &amp; Prickly Pear Beverage</td>\n",
       "      <td>115</td>\n",
       "      <td>7</td>\n",
       "      <td>8.4</td>\n",
       "      <td>2287043</td>\n",
       "      <td>7</td>\n",
       "      <td>4</td>\n",
       "      <td>13</td>\n",
       "      <td>1.0</td>\n",
       "      <td>...</td>\n",
       "      <td>6.0</td>\n",
       "      <td>Frequent Customer</td>\n",
       "      <td>John</td>\n",
       "      <td>Harris</td>\n",
       "      <td>Male</td>\n",
       "      <td>Rhode Island</td>\n",
       "      <td>51</td>\n",
       "      <td>2</td>\n",
       "      <td>married</td>\n",
       "      <td>167566</td>\n",
       "    </tr>\n",
       "  </tbody>\n",
       "</table>\n",
       "<p>5 rows × 30 columns</p>\n",
       "</div>"
      ],
      "text/plain": [
       "         product_id                                    product_name  aisle_id  \\\n",
       "user_id                                                                         \n",
       "115              10  Sparkling Orange Juice & Prickly Pear Beverage       115   \n",
       "138               1                      Chocolate Sandwich Cookies        61   \n",
       "138               1                      Chocolate Sandwich Cookies        61   \n",
       "225               9               Light Strawberry Blueberry Yogurt       120   \n",
       "295              10  Sparkling Orange Juice & Prickly Pear Beverage       115   \n",
       "\n",
       "         department_id  prices  order_id  order_number  orders_day_of_week  \\\n",
       "user_id                                                                      \n",
       "115                  7     8.4   3278419             9                   4   \n",
       "138                 19     5.8   3139998            28                   6   \n",
       "138                 19     5.8   1977647            30                   6   \n",
       "225                 16     7.0    169443            11                   4   \n",
       "295                  7     8.4   2287043             7                   4   \n",
       "\n",
       "         time_of_day  days_since_prior_order  ...  mean_order_frequency  \\\n",
       "user_id                                       ...                         \n",
       "115               18                     4.0  ...                  10.0   \n",
       "138               11                     3.0  ...                   8.0   \n",
       "138               17                    20.0  ...                   8.0   \n",
       "225               10                     6.0  ...                  15.0   \n",
       "295               13                     1.0  ...                   6.0   \n",
       "\n",
       "         order_frequency_flag first_name surname  gender         state  age  \\\n",
       "user_id                                                                       \n",
       "115         Frequent Customer      Carol    Soto  Female         Idaho   77   \n",
       "138         Frequent Customer    Charles     Cox    Male     Minnesota   81   \n",
       "138         Frequent Customer    Charles     Cox    Male     Minnesota   81   \n",
       "225          Regular customer  Elizabeth   Tapia  Female       Montana   76   \n",
       "295         Frequent Customer       John  Harris    Male  Rhode Island   51   \n",
       "\n",
       "        dependants  family_status  income  \n",
       "user_id                                    \n",
       "115              3        married   98736  \n",
       "138              1        married   49620  \n",
       "138              1        married   49620  \n",
       "225              3        married   69724  \n",
       "295              2        married  167566  \n",
       "\n",
       "[5 rows x 30 columns]"
      ]
     },
     "execution_count": 4,
     "metadata": {},
     "output_type": "execute_result"
    }
   ],
   "source": [
    "df_readmat.head()"
   ]
  },
  {
   "cell_type": "code",
   "execution_count": 5,
   "id": "80d122e4",
   "metadata": {},
   "outputs": [
    {
     "data": {
      "text/plain": [
       "(32404859, 30)"
      ]
     },
     "execution_count": 5,
     "metadata": {},
     "output_type": "execute_result"
    }
   ],
   "source": [
    "df_readmat.shape"
   ]
  },
  {
   "cell_type": "markdown",
   "id": "e4f58e8b",
   "metadata": {},
   "source": [
    "# 02. Creating Crosstabs"
   ]
  },
  {
   "cell_type": "code",
   "execution_count": 7,
   "id": "eb36b4bc",
   "metadata": {},
   "outputs": [],
   "source": [
    "#### Creating a crosstab between the 'days_since_prior_order' column and the 'order_number' column\n",
    "crosstab = pd.crosstab(df_readmat['days_since_prior_order'], df_readmat['order_number'], dropna = False)"
   ]
  },
  {
   "cell_type": "code",
   "execution_count": 8,
   "id": "ac7eafe6",
   "metadata": {},
   "outputs": [],
   "source": [
    "#### Due to size, copy the crosstab table straight to clipboard to allowing for paste it into Excel for easy viewing\n",
    "crosstab.to_clipboard()"
   ]
  },
  {
   "cell_type": "markdown",
   "id": "8cca3e66",
   "metadata": {},
   "source": [
    "# 03. Using Python Text Editor"
   ]
  },
  {
   "cell_type": "code",
   "execution_count": 9,
   "id": "8343b91d",
   "metadata": {},
   "outputs": [
    {
     "data": {
      "text/plain": [
       "Index(['product_id', 'product_name', 'aisle_id', 'department_id', 'prices',\n",
       "       'order_id', 'order_number', 'orders_day_of_week', 'time_of_day',\n",
       "       'days_since_prior_order', 'add_to_cart_order', 'reordered',\n",
       "       'price_range_loc', 'busiest_day', 'busiest_days',\n",
       "       'busiest_period_of_day', 'max_order', 'loyalty_flag',\n",
       "       'mean_product_price', 'spender_flag', 'mean_order_frequency',\n",
       "       'order_frequency_flag', 'first_name', 'surname', 'gender', 'state',\n",
       "       'age', 'dependants', 'family_status', 'income'],\n",
       "      dtype='object')"
      ]
     },
     "execution_count": 9,
     "metadata": {},
     "output_type": "execute_result"
    }
   ],
   "source": [
    "#### Copy all the columns from Python using the df.columns function\n",
    "df_readmat.columns"
   ]
  }
 ],
 "metadata": {
  "kernelspec": {
   "display_name": "Python 3 (ipykernel)",
   "language": "python",
   "name": "python3"
  },
  "language_info": {
   "codemirror_mode": {
    "name": "ipython",
    "version": 3
   },
   "file_extension": ".py",
   "mimetype": "text/x-python",
   "name": "python",
   "nbconvert_exporter": "python",
   "pygments_lexer": "ipython3",
   "version": "3.11.5"
  }
 },
 "nbformat": 4,
 "nbformat_minor": 5
}
